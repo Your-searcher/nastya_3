{
  "nbformat": 4,
  "nbformat_minor": 0,
  "metadata": {
    "colab": {
      "provenance": [],
      "collapsed_sections": [],
      "authorship_tag": "ABX9TyNjk+u7v3EzHvnuPb/BsIIo",
      "include_colab_link": true
    },
    "kernelspec": {
      "name": "python3",
      "display_name": "Python 3"
    },
    "language_info": {
      "name": "python"
    }
  },
  "cells": [
    {
      "cell_type": "markdown",
      "metadata": {
        "id": "view-in-github",
        "colab_type": "text"
      },
      "source": [
        "<a href=\"https://colab.research.google.com/github/Your-searcher/nastya_3/blob/main/%22Untitled3_ipynb%22.ipynb\" target=\"_parent\"><img src=\"https://colab.research.google.com/assets/colab-badge.svg\" alt=\"Open In Colab\"/></a>"
      ]
    },
    {
      "cell_type": "code",
      "execution_count": null,
      "metadata": {
        "colab": {
          "base_uri": "https://localhost:8080/"
        },
        "id": "4fxG74E0VIs8",
        "outputId": "1c4a3a5f-cc1b-41e3-c7f1-5670103a5e68"
      },
      "outputs": [
        {
          "output_type": "stream",
          "name": "stdout",
          "text": [
            "[0 2 1] <class 'numpy.ndarray'>\n",
            "[1. 4. 5. 8.] <class 'numpy.ndarray'>\n"
          ]
        }
      ],
      "source": [
        "# Создать массив из списков\n",
        "import numpy as np\n",
        "a = np.array([0, 2, 1])\n",
        "print(a, type(a))\n",
        "b = np.array([1, 4, 5, 8], float)\n",
        "print(b, type(b))"
      ]
    },
    {
      "cell_type": "code",
      "source": [
        "# Доступ к элеменам массива\n",
        "import numpy as np\n",
        "b = np.array([1, 4, 5, 8],\n",
        "float)\n",
        "print(b, type(b))\n",
        "print(b[:2])\n",
        "print(b[3])\n",
        "b[0]=20\n",
        "print(b)"
      ],
      "metadata": {
        "colab": {
          "base_uri": "https://localhost:8080/"
        },
        "id": "NJDNk0i1ZI2Q",
        "outputId": "cd849956-96fa-454a-8374-2ce23b1e63e7"
      },
      "execution_count": null,
      "outputs": [
        {
          "output_type": "stream",
          "name": "stdout",
          "text": [
            "[1. 4. 5. 8.] <class 'numpy.ndarray'>\n",
            "[1. 4.]\n",
            "8.0\n",
            "[20.  4.  5.  8.]\n"
          ]
        }
      ]
    },
    {
      "cell_type": "code",
      "source": [
        "# Матрица\n",
        "import numpy as np\n",
        "a = np.array([[1, 2, 3], [4, 5, 6]],\n",
        "float)\n",
        "print(a)\n",
        "print(a[0,0])\n",
        "print(a[0,1])"
      ],
      "metadata": {
        "colab": {
          "base_uri": "https://localhost:8080/"
        },
        "id": "XgjIs9I3Zha-",
        "outputId": "e0044bcd-8cc1-46b7-a49c-ce05963e9884"
      },
      "execution_count": null,
      "outputs": [
        {
          "output_type": "stream",
          "name": "stdout",
          "text": [
            "[[1. 2. 3.]\n",
            " [4. 5. 6.]]\n",
            "1.0\n",
            "2.0\n"
          ]
        }
      ]
    },
    {
      "cell_type": "code",
      "source": [
        "# Доступ к элеменам массива\n",
        "import numpy as np\n",
        "a = np.array([[1, 2, 3], [4, 5, 6]],\n",
        "float)\n",
        "print(a)\n",
        "print(a[1,:])\n",
        "print(a[:,2])\n",
        "print(a[-1:, -2:])"
      ],
      "metadata": {
        "colab": {
          "base_uri": "https://localhost:8080/"
        },
        "id": "9IQtKcY8ZogW",
        "outputId": "10454d37-43b3-4dbf-a3e9-05ad30ce9144"
      },
      "execution_count": null,
      "outputs": [
        {
          "output_type": "stream",
          "name": "stdout",
          "text": [
            "[[1. 2. 3.]\n",
            " [4. 5. 6.]]\n",
            "[4. 5. 6.]\n",
            "[3. 6.]\n",
            "[[5. 6.]]\n"
          ]
        }
      ]
    },
    {
      "cell_type": "code",
      "source": [
        "# Метод shape возвращает количество строк и столбцов в матрице\n",
        "import numpy as np\n",
        "a = np.array([[1, 2, 3], [4, 5, 6]], float)\n",
        "print(a)\n",
        "print(a.shape)"
      ],
      "metadata": {
        "colab": {
          "base_uri": "https://localhost:8080/"
        },
        "id": "ow9rRlMsZtzu",
        "outputId": "3a756807-f546-4f0a-9637-649828e49411"
      },
      "execution_count": null,
      "outputs": [
        {
          "output_type": "stream",
          "name": "stdout",
          "text": [
            "[[1. 2. 3.]\n",
            " [4. 5. 6.]]\n",
            "(2, 3)\n"
          ]
        }
      ]
    },
    {
      "cell_type": "code",
      "source": [
        "# Метод dtype возвращает тип переменных, хранящихся в массиве\n",
        "import numpy as np\n",
        "a = np.array([[1, 2, 3], [4, 5, 6]],\n",
        "float)\n",
        "print(a)\n",
        "print(a.dtype)"
      ],
      "metadata": {
        "colab": {
          "base_uri": "https://localhost:8080/"
        },
        "id": "ZcAsoJwkZ1Km",
        "outputId": "21326c39-3197-4850-8140-6733882d8039"
      },
      "execution_count": null,
      "outputs": [
        {
          "output_type": "stream",
          "name": "stdout",
          "text": [
            "[[1. 2. 3.]\n",
            " [4. 5. 6.]]\n",
            "float64\n"
          ]
        }
      ]
    },
    {
      "cell_type": "code",
      "source": [
        "# Метод len возвращает длину первого измерения (оси)\n",
        "import numpy as np\n",
        "a = np.array([[1, 2, 3], [4, 5, 6]],\n",
        "float)\n",
        "print(a)\n",
        "print(len(a))\n",
        "print(len(a[0]))"
      ],
      "metadata": {
        "colab": {
          "base_uri": "https://localhost:8080/"
        },
        "id": "UyFBTxnDaDm2",
        "outputId": "88d2fcf3-75d6-4b94-a320-bdd33689eb5f"
      },
      "execution_count": null,
      "outputs": [
        {
          "output_type": "stream",
          "name": "stdout",
          "text": [
            "[[1. 2. 3.]\n",
            " [4. 5. 6.]]\n",
            "2\n",
            "3\n"
          ]
        }
      ]
    },
    {
      "cell_type": "code",
      "source": [
        "# Метод in используется для проверки на наличие элемента в массиве\n",
        "import numpy as np\n",
        "a = np.array([[1, 2, 3], [4, 5, 6]], float)\n",
        "print(a)\n",
        "print(2 in a)\n",
        "print(0 in a)"
      ],
      "metadata": {
        "colab": {
          "base_uri": "https://localhost:8080/"
        },
        "id": "RElcH2D9aFCl",
        "outputId": "3ddfecaa-5af7-4f90-a185-51a69087d06d"
      },
      "execution_count": null,
      "outputs": [
        {
          "output_type": "stream",
          "name": "stdout",
          "text": [
            "[[1. 2. 3.]\n",
            " [4. 5. 6.]]\n",
            "True\n",
            "False\n"
          ]
        }
      ]
    },
    {
      "cell_type": "code",
      "source": [
        "# Переформатировать одномерный массив из десяти элементов во двумерный массив, состоящий из пяти строк и двух столбцов\n",
        "import numpy as np\n",
        "a = np.array(range(10), float)\n",
        "print(a)\n",
        "a = a.reshape((5, 2))\n",
        "print(a)\n",
        "print(a.shape)"
      ],
      "metadata": {
        "colab": {
          "base_uri": "https://localhost:8080/"
        },
        "id": "sQvPWULqaFMN",
        "outputId": "cfdf00c5-acdc-42fe-8193-efb105c1d380"
      },
      "execution_count": null,
      "outputs": [
        {
          "output_type": "stream",
          "name": "stdout",
          "text": [
            "[0. 1. 2. 3. 4. 5. 6. 7. 8. 9.]\n",
            "[[0. 1.]\n",
            " [2. 3.]\n",
            " [4. 5.]\n",
            " [6. 7.]\n",
            " [8. 9.]]\n",
            "(5, 2)\n"
          ]
        }
      ]
    },
    {
      "cell_type": "code",
      "source": [
        "# Метод copy используется для создания копии существующего массива в памяти\n",
        "import numpy as np\n",
        "a = np.array([1, 2, 3], float)\n",
        "b = a\n",
        "c = a.copy()\n",
        "a[0] = 0\n",
        "print(a)\n",
        "print(b)\n",
        "print(c)\n",
        "a[0]=7\n",
        "print(b)\n",
        "print(b)\n",
        "print(c)"
      ],
      "metadata": {
        "colab": {
          "base_uri": "https://localhost:8080/"
        },
        "id": "VhAhW0PTaQF1",
        "outputId": "e244eacf-501c-47a4-a20f-cdfdf2d23582"
      },
      "execution_count": null,
      "outputs": [
        {
          "output_type": "stream",
          "name": "stdout",
          "text": [
            "[0. 2. 3.]\n",
            "[0. 2. 3.]\n",
            "[1. 2. 3.]\n",
            "[7. 2. 3.]\n",
            "[7. 2. 3.]\n",
            "[1. 2. 3.]\n"
          ]
        }
      ]
    },
    {
      "cell_type": "code",
      "source": [
        "# Создание списков из массивов\n",
        "import numpy as np\n",
        "a = np.array([1, 2, 3], float)\n",
        "print(a.tolist())\n",
        "print(list(a))"
      ],
      "metadata": {
        "colab": {
          "base_uri": "https://localhost:8080/"
        },
        "id": "VK5lmzwhaanc",
        "outputId": "7fd0c3ae-1277-45f5-c242-e3b6cc60cd99"
      },
      "execution_count": null,
      "outputs": [
        {
          "output_type": "stream",
          "name": "stdout",
          "text": [
            "[1.0, 2.0, 3.0]\n",
            "[1.0, 2.0, 3.0]\n"
          ]
        }
      ]
    },
    {
      "cell_type": "code",
      "source": [
        "# Конвертация массива в бинарную строку\n",
        "import numpy as np\n",
        "a = np.array([1, 2, 3], float)\n",
        "s = a.tostring()\n",
        "print(s)\n",
        "print(np.fromstring(s))"
      ],
      "metadata": {
        "colab": {
          "base_uri": "https://localhost:8080/"
        },
        "id": "UhnVLzybahhc",
        "outputId": "90d03193-eb3d-44e2-a297-52b829324612"
      },
      "execution_count": null,
      "outputs": [
        {
          "output_type": "stream",
          "name": "stdout",
          "text": [
            "b'\\x00\\x00\\x00\\x00\\x00\\x00\\xf0?\\x00\\x00\\x00\\x00\\x00\\x00\\x00@\\x00\\x00\\x00\\x00\\x00\\x00\\x08@'\n",
            "[1. 2. 3.]\n"
          ]
        },
        {
          "output_type": "stream",
          "name": "stderr",
          "text": [
            "/usr/local/lib/python3.7/dist-packages/ipykernel_launcher.py:3: DeprecationWarning: tostring() is deprecated. Use tobytes() instead.\n",
            "  This is separate from the ipykernel package so we can avoid doing imports until\n",
            "/usr/local/lib/python3.7/dist-packages/ipykernel_launcher.py:5: DeprecationWarning: The binary mode of fromstring is deprecated, as it behaves surprisingly on unicode inputs. Use frombuffer instead\n",
            "  \"\"\"\n"
          ]
        }
      ]
    },
    {
      "cell_type": "code",
      "source": [
        "# Заполнение массива одинаковым значением\n",
        "import numpy as np\n",
        "a = np.array([1, 2, 3],\n",
        "float)\n",
        "print(a)\n",
        "a.fill(20)\n",
        "print(a)"
      ],
      "metadata": {
        "colab": {
          "base_uri": "https://localhost:8080/"
        },
        "id": "YROzDvfKalAl",
        "outputId": "58edc12d-73f4-4c65-9fbe-ff8159721f1f"
      },
      "execution_count": null,
      "outputs": [
        {
          "output_type": "stream",
          "name": "stdout",
          "text": [
            "[1. 2. 3.]\n",
            "[20. 20. 20.]\n"
          ]
        }
      ]
    },
    {
      "cell_type": "code",
      "source": [
        "# Транспонирование массивов\n",
        "import numpy as np\n",
        "a = np.array(range(6), float).reshape((2,3))\n",
        "print(a)\n",
        "print(\"Transpose\")\n",
        "print(a.transpose())"
      ],
      "metadata": {
        "colab": {
          "base_uri": "https://localhost:8080/"
        },
        "id": "UVthUK4pap48",
        "outputId": "7a342169-5307-4ba4-fc46-b03020c229e2"
      },
      "execution_count": null,
      "outputs": [
        {
          "output_type": "stream",
          "name": "stdout",
          "text": [
            "[[0. 1. 2.]\n",
            " [3. 4. 5.]]\n",
            "Transpose\n",
            "[[0. 3.]\n",
            " [1. 4.]\n",
            " [2. 5.]]\n"
          ]
        }
      ]
    },
    {
      "cell_type": "code",
      "source": [
        "# Многомерный массив можно переконвертировать в одномерный при помощи метода flatten\n",
        "import numpy as np\n",
        "a = np.array([[1, 2, 3], [4, 5, 6]], float)\n",
        "print(a)\n",
        "print(\"Flatten\")\n",
        "b=a.flatten()\n",
        "print(b)"
      ],
      "metadata": {
        "colab": {
          "base_uri": "https://localhost:8080/"
        },
        "id": "pl-Usdi-a3AU",
        "outputId": "f5819d59-793a-4fd2-b556-437a1a34afc2"
      },
      "execution_count": null,
      "outputs": [
        {
          "output_type": "stream",
          "name": "stdout",
          "text": [
            "[[1. 2. 3.]\n",
            " [4. 5. 6.]]\n",
            "Flatten\n",
            "[1. 2. 3. 4. 5. 6.]\n"
          ]
        }
      ]
    },
    {
      "cell_type": "code",
      "source": [
        "# Два или больше массивов можно сконкатенировать при помощи метода concatenate\n",
        "import numpy as np\n",
        "a = np.array([1,2], float)\n",
        "b = np.array([3,4,5,6], float)\n",
        "c = np.array([7,8,9], float)\n",
        "print(\"А\")\n",
        "print(a)\n",
        "print(\"В\")\n",
        "print(b)\n",
        "print(\"С\")\n",
        "print(c)\n",
        "print(\"Concatenate\")\n",
        "d=np.concatenate((a, b, c))\n",
        "print(d)"
      ],
      "metadata": {
        "colab": {
          "base_uri": "https://localhost:8080/"
        },
        "id": "GuiVuT-Sa99y",
        "outputId": "81bfd2be-bcf9-48c8-bc09-a48deb8a29b9"
      },
      "execution_count": null,
      "outputs": [
        {
          "output_type": "stream",
          "name": "stdout",
          "text": [
            "А\n",
            "[1. 2.]\n",
            "В\n",
            "[3. 4. 5. 6.]\n",
            "С\n",
            "[7. 8. 9.]\n",
            "Concatenate\n",
            "[1. 2. 3. 4. 5. 6. 7. 8. 9.]\n"
          ]
        }
      ]
    },
    {
      "cell_type": "code",
      "source": [
        "# Не одномерный массив можно соединить, создав ось\n",
        "import numpy as np\n",
        "a = np.array([[1, 2], [3, 4]],\n",
        "float)\n",
        "b = np.array([[5, 6], [7,8]], float)\n",
        "print(\"A\")\n",
        "print(a)\n",
        "print(\"B\")\n",
        "print(b)\n",
        "print(\"Concatenate:\")\n",
        "c=np.concatenate((a,b))\n",
        "print(c)\n",
        "print(\"Concatenate axis=0\")\n",
        "d=np.concatenate((a,b), axis=0)\n",
        "print(d)\n",
        "print(\"Concatenate axis=1:\")\n",
        "e=np.concatenate((a,b), axis=1)\n",
        "print(e)"
      ],
      "metadata": {
        "colab": {
          "base_uri": "https://localhost:8080/"
        },
        "id": "2KXOJPXOa-Di",
        "outputId": "bc25c91e-4c76-4d3d-bed9-8ec115b8ebee"
      },
      "execution_count": null,
      "outputs": [
        {
          "output_type": "stream",
          "name": "stdout",
          "text": [
            "A\n",
            "[[1. 2.]\n",
            " [3. 4.]]\n",
            "B\n",
            "[[5. 6.]\n",
            " [7. 8.]]\n",
            "Concatenate:\n",
            "[[1. 2.]\n",
            " [3. 4.]\n",
            " [5. 6.]\n",
            " [7. 8.]]\n",
            "Concatenate axis=0\n",
            "[[1. 2.]\n",
            " [3. 4.]\n",
            " [5. 6.]\n",
            " [7. 8.]]\n",
            "Concatenate axis=1:\n",
            "[[1. 2. 5. 6.]\n",
            " [3. 4. 7. 8.]]\n"
          ]
        }
      ]
    },
    {
      "cell_type": "code",
      "source": [
        "# размерность массива может быть увеличена при использовании константы newaxis в квадратных скобках\n",
        "import numpy as np\n",
        "a = np.array([[1, 2], [3, 4]],\n",
        "float)\n",
        "b = np.array([[5, 6], [7,8]], float)\n",
        "print(\"A:\")\n",
        "print(a)\n",
        "print(\"B:\")\n",
        "print(b)\n",
        "print(\"a[:,np.newaxis]:\")\n",
        "print(a[:,np.newaxis])\n",
        "print(\"a[:,np.newaxis].shape:\")\n",
        "print(a[:,np.newaxis].shape)\n",
        "print(\"[np.newaxis,:]\")\n",
        "print(b[np.newaxis,:])\n",
        "print(\"b[np.newaxis,:].shape\")\n",
        "print(b[np.newaxis,:].shape)"
      ],
      "metadata": {
        "colab": {
          "base_uri": "https://localhost:8080/"
        },
        "id": "kk822iYbbnji",
        "outputId": "8ecb7190-08e4-47ad-90ca-e39ead0c2089"
      },
      "execution_count": null,
      "outputs": [
        {
          "output_type": "stream",
          "name": "stdout",
          "text": [
            "A:\n",
            "[[1. 2.]\n",
            " [3. 4.]]\n",
            "B:\n",
            "[[5. 6.]\n",
            " [7. 8.]]\n",
            "a[:,np.newaxis]:\n",
            "[[[1. 2.]]\n",
            "\n",
            " [[3. 4.]]]\n",
            "a[:,np.newaxis].shape:\n",
            "(2, 1, 2)\n",
            "[np.newaxis,:]\n",
            "[[[5. 6.]\n",
            "  [7. 8.]]]\n",
            "b[np.newaxis,:].shape\n",
            "(1, 2, 2)\n"
          ]
        }
      ]
    },
    {
      "cell_type": "code",
      "source": [
        "# Функция arange аналогична функции range, но возвращает массив\n",
        "import numpy as np\n",
        "a=np.arange(5, dtype=float)\n",
        "print(a)\n",
        "print()\n",
        "b=np.arange(1, 10, 2, dtype=int)\n",
        "print(b)"
      ],
      "metadata": {
        "colab": {
          "base_uri": "https://localhost:8080/"
        },
        "id": "v_oMKHlecB5h",
        "outputId": "915c4123-93cc-43d6-e9f4-b373210cbaa1"
      },
      "execution_count": null,
      "outputs": [
        {
          "output_type": "stream",
          "name": "stdout",
          "text": [
            "[0. 1. 2. 3. 4.]\n",
            "\n",
            "[1 3 5 7 9]\n"
          ]
        }
      ]
    },
    {
      "cell_type": "code",
      "source": [
        "# Создание массивов\n",
        "import numpy as np\n",
        "a=np.ones((2,3), dtype=float)\n",
        "b=np.zeros(7, dtype=int)\n",
        "print(a)\n",
        "print(b)"
      ],
      "metadata": {
        "colab": {
          "base_uri": "https://localhost:8080/"
        },
        "id": "_Sp-wuhvcIAo",
        "outputId": "1e73a986-e5eb-4185-abd4-7f002018d772"
      },
      "execution_count": null,
      "outputs": [
        {
          "output_type": "stream",
          "name": "stdout",
          "text": [
            "[[1. 1. 1.]\n",
            " [1. 1. 1.]]\n",
            "[0 0 0 0 0 0 0]\n"
          ]
        }
      ]
    },
    {
      "cell_type": "code",
      "source": [
        "# Преобразование уже созданных массивов, заполнив его нулями и единицами соответственно\n",
        "import numpy as np\n",
        "a = np.array([[1, 2, 3], [4, 5, 6]],\n",
        "float)\n",
        "b=np.zeros_like(a)\n",
        "c= np.ones_like(a)\n",
        "print(\"A:\")\n",
        "print(a)\n",
        "print(\"B:\")\n",
        "print(b)\n",
        "print(\"C:\")\n",
        "print(c)"
      ],
      "metadata": {
        "colab": {
          "base_uri": "https://localhost:8080/"
        },
        "id": "vpJCp34IcKd4",
        "outputId": "102c9daf-671d-4592-ba51-853e34ddee59"
      },
      "execution_count": null,
      "outputs": [
        {
          "output_type": "stream",
          "name": "stdout",
          "text": [
            "A:\n",
            "[[1. 2. 3.]\n",
            " [4. 5. 6.]]\n",
            "B:\n",
            "[[0. 0. 0.]\n",
            " [0. 0. 0.]]\n",
            "C:\n",
            "[[1. 1. 1.]\n",
            " [1. 1. 1.]]\n"
          ]
        }
      ]
    },
    {
      "cell_type": "code",
      "source": [
        "# Создание квадратичной матрицы\n",
        "import numpy as np\n",
        "a=np.identity(4, dtype=float)\n",
        "print(a)"
      ],
      "metadata": {
        "colab": {
          "base_uri": "https://localhost:8080/"
        },
        "id": "JwukMxAScTLe",
        "outputId": "98938745-f483-41e5-d987-e8cd266093ca"
      },
      "execution_count": null,
      "outputs": [
        {
          "output_type": "stream",
          "name": "stdout",
          "text": [
            "[[1. 0. 0. 0.]\n",
            " [0. 1. 0. 0.]\n",
            " [0. 0. 1. 0.]\n",
            " [0. 0. 0. 1.]]\n"
          ]
        }
      ]
    },
    {
      "cell_type": "code",
      "source": [
        "# Функция eye возвращает матрицу с единичками на к-атой диагонали\n",
        "import numpy as np\n",
        "a=np.eye(4, k=1, dtype=float)\n",
        "print(a)"
      ],
      "metadata": {
        "colab": {
          "base_uri": "https://localhost:8080/"
        },
        "id": "89e5ORflcWj2",
        "outputId": "4174e0d2-4550-45b0-8dcb-e6ba54830cec"
      },
      "execution_count": null,
      "outputs": [
        {
          "output_type": "stream",
          "name": "stdout",
          "text": [
            "[[0. 1. 0. 0.]\n",
            " [0. 0. 1. 0.]\n",
            " [0. 0. 0. 1.]\n",
            " [0. 0. 0. 0.]]\n"
          ]
        }
      ]
    },
    {
      "cell_type": "code",
      "source": [
        "# Соблюдение принципа элемент-элемент\n",
        "import numpy as np\n",
        "a = np.array([1,2,3], float)\n",
        "b = np.array([5,2,6],\n",
        "float)\n",
        "print(\"A:\")\n",
        "print(a)\n",
        "print(\"B:\")\n",
        "print(b)\n",
        "print(\"A+B\")\n",
        "print(a+b)\n",
        "print(\"A-B:\")\n",
        "print(a-b)\n",
        "print(\"A*B:\")\n",
        "print(a*b)\n",
        "print(\"A/B:\")\n",
        "print(a/b)\n",
        "print(\"A%B:\")\n",
        "print(a%b)\n",
        "print(\"B^A:\")\n",
        "print(b**a)"
      ],
      "metadata": {
        "colab": {
          "base_uri": "https://localhost:8080/"
        },
        "id": "YJxeWUK8cW6_",
        "outputId": "3c5f6c3e-bf0f-4557-8f57-7125b29510f8"
      },
      "execution_count": null,
      "outputs": [
        {
          "output_type": "stream",
          "name": "stdout",
          "text": [
            "A:\n",
            "[1. 2. 3.]\n",
            "B:\n",
            "[5. 2. 6.]\n",
            "A+B\n",
            "[6. 4. 9.]\n",
            "A-B:\n",
            "[-4.  0. -3.]\n",
            "A*B:\n",
            "[ 5.  4. 18.]\n",
            "A/B:\n",
            "[0.2 1.  0.5]\n",
            "A%B:\n",
            "[1. 0. 3.]\n",
            "B^A:\n",
            "[  5.   4. 216.]\n"
          ]
        }
      ]
    },
    {
      "cell_type": "code",
      "source": [
        "# Умножение двумерных массивов\n",
        "import numpy as np\n",
        "a = np.array([[1,2], [3,4]], float)\n",
        "b = np.array([[2,0], [1,3]], float)\n",
        "c=a * b\n",
        "print(c)"
      ],
      "metadata": {
        "colab": {
          "base_uri": "https://localhost:8080/"
        },
        "id": "KY1aoD0HcXDG",
        "outputId": "91697008-afe0-4dfa-dda9-4237d9a32996"
      },
      "execution_count": null,
      "outputs": [
        {
          "output_type": "stream",
          "name": "stdout",
          "text": [
            "[[ 2.  0.]\n",
            " [ 3. 12.]]\n"
          ]
        }
      ]
    },
    {
      "cell_type": "code",
      "source": [
        "# При несоответствии в размере выбрасываются ошибки\n",
        "import numpy as np\n",
        "a = np.array([1,2,3], float)\n",
        "b = np.array([4,5], float)\n",
        "c=a + b\n",
        "print(c)"
      ],
      "metadata": {
        "colab": {
          "base_uri": "https://localhost:8080/",
          "height": 217
        },
        "id": "SRY6nNvpcyO3",
        "outputId": "740a8a81-2ad3-4681-9f22-76ea06ba161e"
      },
      "execution_count": null,
      "outputs": [
        {
          "output_type": "error",
          "ename": "ValueError",
          "evalue": "ignored",
          "traceback": [
            "\u001b[0;31m---------------------------------------------------------------------------\u001b[0m",
            "\u001b[0;31mValueError\u001b[0m                                Traceback (most recent call last)",
            "\u001b[0;32m<ipython-input-33-9cbc4bcee833>\u001b[0m in \u001b[0;36m<module>\u001b[0;34m\u001b[0m\n\u001b[1;32m      2\u001b[0m \u001b[0ma\u001b[0m \u001b[0;34m=\u001b[0m \u001b[0mnp\u001b[0m\u001b[0;34m.\u001b[0m\u001b[0marray\u001b[0m\u001b[0;34m(\u001b[0m\u001b[0;34m[\u001b[0m\u001b[0;36m1\u001b[0m\u001b[0;34m,\u001b[0m\u001b[0;36m2\u001b[0m\u001b[0;34m,\u001b[0m\u001b[0;36m3\u001b[0m\u001b[0;34m]\u001b[0m\u001b[0;34m,\u001b[0m \u001b[0mfloat\u001b[0m\u001b[0;34m)\u001b[0m\u001b[0;34m\u001b[0m\u001b[0;34m\u001b[0m\u001b[0m\n\u001b[1;32m      3\u001b[0m \u001b[0mb\u001b[0m \u001b[0;34m=\u001b[0m \u001b[0mnp\u001b[0m\u001b[0;34m.\u001b[0m\u001b[0marray\u001b[0m\u001b[0;34m(\u001b[0m\u001b[0;34m[\u001b[0m\u001b[0;36m4\u001b[0m\u001b[0;34m,\u001b[0m\u001b[0;36m5\u001b[0m\u001b[0;34m]\u001b[0m\u001b[0;34m,\u001b[0m \u001b[0mfloat\u001b[0m\u001b[0;34m)\u001b[0m\u001b[0;34m\u001b[0m\u001b[0;34m\u001b[0m\u001b[0m\n\u001b[0;32m----> 4\u001b[0;31m \u001b[0mc\u001b[0m\u001b[0;34m=\u001b[0m\u001b[0ma\u001b[0m \u001b[0;34m+\u001b[0m \u001b[0mb\u001b[0m\u001b[0;34m\u001b[0m\u001b[0;34m\u001b[0m\u001b[0m\n\u001b[0m\u001b[1;32m      5\u001b[0m \u001b[0mprint\u001b[0m\u001b[0;34m(\u001b[0m\u001b[0mc\u001b[0m\u001b[0;34m)\u001b[0m\u001b[0;34m\u001b[0m\u001b[0;34m\u001b[0m\u001b[0m\n",
            "\u001b[0;31mValueError\u001b[0m: operands could not be broadcast together with shapes (3,) (2,) "
          ]
        }
      ]
    },
    {
      "cell_type": "code",
      "source": [
        "# Пример\n",
        "import numpy as np\n",
        "a = np.array([[1, 2], [3, 4], [5, 6]], float)\n",
        "b = np.array([-1, 3], float)\n",
        "print(\"A:\")\n",
        "print(a)\n",
        "print(\"B:\")\n",
        "print(b)\n",
        "print(\"A+B\")\n",
        "print(a+b)"
      ],
      "metadata": {
        "colab": {
          "base_uri": "https://localhost:8080/"
        },
        "id": "ZUmChJe1cyV-",
        "outputId": "5114c83c-d8ab-4e4c-de5e-ca4c2ab27456"
      },
      "execution_count": null,
      "outputs": [
        {
          "output_type": "stream",
          "name": "stdout",
          "text": [
            "A:\n",
            "[[1. 2.]\n",
            " [3. 4.]\n",
            " [5. 6.]]\n",
            "B:\n",
            "[-1.  3.]\n",
            "A+B\n",
            "[[0. 5.]\n",
            " [2. 7.]\n",
            " [4. 9.]]\n"
          ]
        }
      ]
    },
    {
      "cell_type": "code",
      "source": [
        "# константа newaxis\n",
        "import numpy as np\n",
        "a = np.zeros((2,2), float)\n",
        "b = np.array([-1., 3.], float)\n",
        "print(\"A:\")\n",
        "print(a)\n",
        "print(\"B:\")\n",
        "print(b)\n",
        "print(\"A+B:\")\n",
        "print(a+b)\n",
        "print(\"a + b[np.newaxis,:]:\")\n",
        "print(a + b[np.newaxis,:])\n",
        "print(\"a + b[:,np.newaxis]:\")\n",
        "print(a + b[:,np.newaxis])"
      ],
      "metadata": {
        "colab": {
          "base_uri": "https://localhost:8080/"
        },
        "id": "7edKcc34cyc-",
        "outputId": "934b5c6a-adb2-480a-82e5-76d41332e9bc"
      },
      "execution_count": null,
      "outputs": [
        {
          "output_type": "stream",
          "name": "stdout",
          "text": [
            "A:\n",
            "[[0. 0.]\n",
            " [0. 0.]]\n",
            "B:\n",
            "[-1.  3.]\n",
            "A+B:\n",
            "[[-1.  3.]\n",
            " [-1.  3.]]\n",
            "a + b[np.newaxis,:]:\n",
            "[[-1.  3.]\n",
            " [-1.  3.]]\n",
            "a + b[:,np.newaxis]:\n",
            "[[-1. -1.]\n",
            " [ 3.  3.]]\n"
          ]
        }
      ]
    },
    {
      "cell_type": "code",
      "source": [
        "# sqrt\n",
        "import numpy as np\n",
        "a = np.array([1, 4, 9], float)\n",
        "print(\"A:\")\n",
        "print(a)\n",
        "print(\"sqrt(a):\")\n",
        "b=np.sqrt(a)\n",
        "print(b)"
      ],
      "metadata": {
        "colab": {
          "base_uri": "https://localhost:8080/"
        },
        "id": "hB1eHApddS8h",
        "outputId": "5831f407-31e1-4d29-faf3-b1999e054e36"
      },
      "execution_count": null,
      "outputs": [
        {
          "output_type": "stream",
          "name": "stdout",
          "text": [
            "A:\n",
            "[1. 4. 9.]\n",
            "sqrt(a):\n",
            "[1. 2. 3.]\n"
          ]
        }
      ]
    },
    {
      "cell_type": "code",
      "source": [
        "# Функции floor, ceil и rint возвращают нижние, верхние или ближайшие (округлённое) значение:\n",
        "import numpy as np\n",
        "a = np.array([1.1, 1.5, 1.9], float)\n",
        "print(\"A:\")\n",
        "print(a)\n",
        "print(\"floor(a):\")\n",
        "b=np.floor(a)\n",
        "print(b)\n",
        "print(\"ceil(a):\")\n",
        "c=np.ceil(a)\n",
        "print(c)\n",
        "print(\"rint(a):\")\n",
        "d=np.rint(a)\n",
        "print(d)"
      ],
      "metadata": {
        "colab": {
          "base_uri": "https://localhost:8080/"
        },
        "id": "qv84CShXdTCo",
        "outputId": "e8ed6852-3988-48d4-c38b-fdf16cb31fc0"
      },
      "execution_count": null,
      "outputs": [
        {
          "output_type": "stream",
          "name": "stdout",
          "text": [
            "A:\n",
            "[1.1 1.5 1.9]\n",
            "floor(a):\n",
            "[1. 1. 1.]\n",
            "ceil(a):\n",
            "[2. 2. 2.]\n",
            "rint(a):\n",
            "[1. 2. 2.]\n"
          ]
        }
      ]
    },
    {
      "cell_type": "code",
      "source": [
        "# Константы\n",
        "import numpy as np\n",
        "print(\"PI:\", np.pi)\n",
        "print(\"E:\", np.e)"
      ],
      "metadata": {
        "colab": {
          "base_uri": "https://localhost:8080/"
        },
        "id": "SAkSYQE6dTII",
        "outputId": "f3188da0-130f-4d3e-d1ff-e54436420698"
      },
      "execution_count": null,
      "outputs": [
        {
          "output_type": "stream",
          "name": "stdout",
          "text": [
            "PI: 3.141592653589793\n",
            "E: 2.718281828459045\n"
          ]
        }
      ]
    },
    {
      "cell_type": "code",
      "source": [
        "# Проводить итерацию массивов можно аналогично спискам\n",
        "import numpy as np\n",
        "a = np.array([1, 4, 5], int)\n",
        "for x in a:\n",
        "  print(x)"
      ],
      "metadata": {
        "colab": {
          "base_uri": "https://localhost:8080/"
        },
        "id": "3FjtQJfudyLJ",
        "outputId": "5299111b-6ae6-4ee8-f9ca-ea0e39043768"
      },
      "execution_count": null,
      "outputs": [
        {
          "output_type": "stream",
          "name": "stdout",
          "text": [
            "1\n",
            "4\n",
            "5\n"
          ]
        }
      ]
    },
    {
      "cell_type": "code",
      "source": [
        "# Для многомерных массивов итерация будет проводиться по первой оси, так, что каждый проход цикла будет возвращать «строку» массива\n",
        "import numpy as np\n",
        "a = np.array([[1, 2], [3, 4], [5, 6]], float)\n",
        "for x in a:\n",
        "  print(x)"
      ],
      "metadata": {
        "colab": {
          "base_uri": "https://localhost:8080/"
        },
        "id": "_Rp-CyBOdySo",
        "outputId": "ea939b4c-ddb9-474b-a6c3-43d53da57dcc"
      },
      "execution_count": null,
      "outputs": [
        {
          "output_type": "stream",
          "name": "stdout",
          "text": [
            "[1. 2.]\n",
            "[3. 4.]\n",
            "[5. 6.]\n"
          ]
        }
      ]
    },
    {
      "cell_type": "code",
      "source": [
        "# Множественное присваивание также доступно при итерации\n",
        "import numpy as np\n",
        "a = np.array([[1, 2], [3, 4], [5, 6]], float)\n",
        "fr (x, y) in a:\n",
        "  print (x * y)"
      ],
      "metadata": {
        "colab": {
          "base_uri": "https://localhost:8080/"
        },
        "id": "VaGqT9ereCAf",
        "outputId": "4426c35e-a8e3-4ed1-86ab-bd1701df517a"
      },
      "execution_count": null,
      "outputs": [
        {
          "output_type": "stream",
          "name": "stdout",
          "text": [
            "2.0\n",
            "12.0\n",
            "30.0\n"
          ]
        }
      ]
    },
    {
      "cell_type": "code",
      "source": [
        "# Для получения каких-либо свойств массивов существует много функций. Элементы могут быть суммированы или перемножены\n",
        "import numpy as np\n",
        "a = np.array([2, 4, 3], float)\n",
        "S= a.sum()\n",
        "P=a.prod()\n",
        "print(\"S=\",S, \"P=\",P)"
      ],
      "metadata": {
        "colab": {
          "base_uri": "https://localhost:8080/"
        },
        "id": "X8OWX3ixeCKP",
        "outputId": "3354acca-2de8-4364-9845-6130e156b345"
      },
      "execution_count": null,
      "outputs": [
        {
          "output_type": "stream",
          "name": "stdout",
          "text": [
            "S= 9.0 P= 24.0\n"
          ]
        }
      ]
    },
    {
      "cell_type": "code",
      "source": [
        "# Функции numpy\n",
        "import numpy as np\n",
        "a = np.array([2, 4, 3], float)\n",
        "S= np.sum(a)\n",
        "P=np.prod(a)\n",
        "print(\"S=\",S, \"P=\",P)"
      ],
      "metadata": {
        "colab": {
          "base_uri": "https://localhost:8080/"
        },
        "id": "XBDTTIGqeCT_",
        "outputId": "a53721a5-0fbe-4102-ea77-e1028653ff17"
      },
      "execution_count": null,
      "outputs": [
        {
          "output_type": "stream",
          "name": "stdout",
          "text": [
            "S= 9.0 P= 24.0\n"
          ]
        }
      ]
    },
    {
      "cell_type": "code",
      "source": [
        "# Aункции mean (среднее арифметическое), вариация и девиация:\n",
        "import numpy as np\n",
        "a = np.array([2, 1, 9], float)\n",
        "SA=a.mean()\n",
        "Var=a.var()\n",
        "Dev=a.std()\n",
        "print(\"SA=\", SA, \"Var=\", Var, \"Dev=\", Dev)"
      ],
      "metadata": {
        "colab": {
          "base_uri": "https://localhost:8080/"
        },
        "id": "qZN8HnZkeZqh",
        "outputId": "900e0017-b93f-42cf-c8fa-aa71544b1697"
      },
      "execution_count": null,
      "outputs": [
        {
          "output_type": "stream",
          "name": "stdout",
          "text": [
            "SA= 4.0 Var= 12.666666666666666 Dev= 3.559026084010437\n"
          ]
        }
      ]
    },
    {
      "cell_type": "code",
      "source": [
        "# Vинимум и максимум в массиве\n",
        "import numpy as np\n",
        "a = np.array([2, 1, 9], float)\n",
        "Min=a.min()\n",
        "Max= a.max()\n",
        "print(\"Min=\", Min, \"Max=\", Max)"
      ],
      "metadata": {
        "colab": {
          "base_uri": "https://localhost:8080/"
        },
        "id": "zTrrX4GKeZxf",
        "outputId": "0691f1b2-ed1b-47a0-a8d2-b5c9175a5411"
      },
      "execution_count": null,
      "outputs": [
        {
          "output_type": "stream",
          "name": "stdout",
          "text": [
            "Min= 1.0 Max= 9.0\n"
          ]
        }
      ]
    },
    {
      "cell_type": "code",
      "source": [
        "# Функции argmin и argmax возвращают индекс минимального или максимального элемента\n",
        "import numpy as np\n",
        "a = np.array([2, 1, 9,4,6,15], float)\n",
        "Imin=a.argmin()\n",
        "Imax= a.argmax()\n",
        "print(\"Imin=\", Imin, \" Imax=\", Imax)"
      ],
      "metadata": {
        "colab": {
          "base_uri": "https://localhost:8080/"
        },
        "id": "OS8I6f-DfC9v",
        "outputId": "b5b3c764-aae2-4418-96c2-b4dfc3fc250e"
      },
      "execution_count": null,
      "outputs": [
        {
          "output_type": "stream",
          "name": "stdout",
          "text": [
            "Imin= 1  Imax= 5\n"
          ]
        }
      ]
    },
    {
      "cell_type": "code",
      "source": [
        "# Макс и мин\n",
        "import numpy as np\n",
        "a = np.array([[0, 2], [3, -1], [3, 5]], float)\n",
        "print(a)\n",
        "print()\n",
        "M0=a.mean(axis=0)\n",
        "M1=a.mean(axis=1)\n",
        "print(\"Mean0=\", M0)\n",
        "print(\"Mean1=\", M1)\n",
        "Min1= a.min(axis=1)\n",
        "Max0= a.max(axis=0)\n",
        "print(\"Min1=\", Min1)\n",
        "print(\"Max0=\", Max0)"
      ],
      "metadata": {
        "colab": {
          "base_uri": "https://localhost:8080/"
        },
        "id": "Og8gom02fDEF",
        "outputId": "6df72934-53d4-472a-e714-5fc5d89fc465"
      },
      "execution_count": null,
      "outputs": [
        {
          "output_type": "stream",
          "name": "stdout",
          "text": [
            "[[ 0.  2.]\n",
            " [ 3. -1.]\n",
            " [ 3.  5.]]\n",
            "\n",
            "Mean0= [2. 2.]\n",
            "Mean1= [1. 1. 4.]\n",
            "Min1= [ 0. -1.  3.]\n",
            "Max0= [3. 5.]\n"
          ]
        }
      ]
    },
    {
      "cell_type": "code",
      "source": [
        "# Как и списки, массивы можно отсортировать\n",
        "import numpy as np\n",
        "a = np.array([6, 2, 5, -1, 0], float)\n",
        "b=sorted(a)\n",
        "print(b)\n",
        "c=a.sort()\n",
        "print(c)"
      ],
      "metadata": {
        "colab": {
          "base_uri": "https://localhost:8080/"
        },
        "id": "-7yIdA_xfgIw",
        "outputId": "fe98173e-ba8c-47ed-92a5-83f0106882cb"
      },
      "execution_count": null,
      "outputs": [
        {
          "output_type": "stream",
          "name": "stdout",
          "text": [
            "[-1.0, 0.0, 2.0, 5.0, 6.0]\n",
            "None\n"
          ]
        }
      ]
    },
    {
      "cell_type": "code",
      "source": [
        "# Значения в массиве могут быть «сокращены», чтобы принадлежать заданному диапазону\n",
        "import numpy as np\n",
        "a = np.array([6, 2, 5, -1, 0], float)\n",
        "print(a)\n",
        "b= a.clip(0, 5)\n",
        "print(b)"
      ],
      "metadata": {
        "colab": {
          "base_uri": "https://localhost:8080/"
        },
        "id": "mf_vNwCXfgMG",
        "outputId": "6055bcf4-4bac-433e-e63c-abfe9f23df5e"
      },
      "execution_count": null,
      "outputs": [
        {
          "output_type": "stream",
          "name": "stdout",
          "text": [
            "[ 6.  2.  5. -1.  0.]\n",
            "[5. 2. 5. 0. 0.]\n"
          ]
        }
      ]
    },
    {
      "cell_type": "code",
      "source": [
        "#\n",
        "import numpy as np\n",
        "a = np.array([1, 1, 4, 5, 5, 5, 7], float)\n",
        "print(a)\n",
        "b=np.unique(a)\n",
        "print(b)"
      ],
      "metadata": {
        "colab": {
          "base_uri": "https://localhost:8080/"
        },
        "id": "Cb1wIWoJfgPe",
        "outputId": "c2f44bcc-6e43-4dfb-896c-a12d67763fe0"
      },
      "execution_count": null,
      "outputs": [
        {
          "output_type": "stream",
          "name": "stdout",
          "text": [
            "[1. 1. 4. 5. 5. 5. 7.]\n",
            "[1. 4. 5. 7.]\n"
          ]
        }
      ]
    },
    {
      "cell_type": "code",
      "source": [
        "# Уникальные элементы могут быть извлечены\n",
        "import numpy as np\n",
        "a = np.array([[1, 2], [3, 4]], float)\n",
        "print(a)\n",
        "print()\n",
        "b=a.diagonal()\n",
        "print(b)"
      ],
      "metadata": {
        "colab": {
          "base_uri": "https://localhost:8080/"
        },
        "id": "ma9dK0FFfpte",
        "outputId": "95dc87dd-fb8b-4579-e973-31dc57b80ac6"
      },
      "execution_count": null,
      "outputs": [
        {
          "output_type": "stream",
          "name": "stdout",
          "text": [
            "[[1. 2.]\n",
            " [3. 4.]]\n",
            "\n",
            "[1. 4.]\n"
          ]
        }
      ]
    },
    {
      "cell_type": "code",
      "source": [
        "# Для двухмерных массивов диагональ\n",
        "import numpy as np\n",
        "a = np.array([1, 3, 0], float)\n",
        "b = np.array([0, 3, 2], float)\n",
        "print(\"A:\")\n",
        "print(a)\n",
        "print(\"B:\")\n",
        "print(b)\n",
        "c=a > b\n",
        "print(\"a>b:\")\n",
        "print(c)\n",
        "d=a == b\n",
        "print(\"a==b:\")\n",
        "print(d)\n",
        "e=a < b\n",
        "print(\"a<=b:\")\n",
        "print(e)"
      ],
      "metadata": {
        "colab": {
          "base_uri": "https://localhost:8080/"
        },
        "id": "jk481okBfpwG",
        "outputId": "8c01c149-c359-4beb-8944-b2ec5e4b205d"
      },
      "execution_count": null,
      "outputs": [
        {
          "output_type": "stream",
          "name": "stdout",
          "text": [
            "A:\n",
            "[1. 3. 0.]\n",
            "B:\n",
            "[0. 3. 2.]\n",
            "a>b:\n",
            "[ True False False]\n",
            "a==b:\n",
            "[False  True False]\n",
            "a<=b:\n",
            "[False False  True]\n"
          ]
        }
      ]
    },
    {
      "cell_type": "code",
      "source": [
        "# Массивы могут быть сравнены с одиночным значением:\n",
        "import numpy as np\n",
        "a = np.array([1, 3, 0], float)\n",
        "print(\"A:\")\n",
        "print(a)\n",
        "b=a > 2\n",
        "print(\"a>2:\")\n",
        "print(b)"
      ],
      "metadata": {
        "colab": {
          "base_uri": "https://localhost:8080/"
        },
        "id": "GckTtr_dfpy3",
        "outputId": "df2bec5b-fe4e-4a16-8189-a556efe76508"
      },
      "execution_count": null,
      "outputs": [
        {
          "output_type": "stream",
          "name": "stdout",
          "text": [
            "A:\n",
            "[1. 3. 0.]\n",
            "a>2:\n",
            "[False  True False]\n"
          ]
        }
      ]
    },
    {
      "cell_type": "code",
      "source": [
        "# Операторы any и all могут быть использованы для определения истинны ли хотя бы один или все элементы соответственно\n",
        "import numpy as np\n",
        "a = np.array([ True, False, False], bool)\n",
        "print(\"A:\")\n",
        "print(a)\n",
        "print(\"Any:\")\n",
        "b=any(a)\n",
        "print(b)\n",
        "print(\"All:\")\n",
        "c=all(a)\n",
        "print(c)"
      ],
      "metadata": {
        "colab": {
          "base_uri": "https://localhost:8080/"
        },
        "id": "3Q9oIX-uhwg5",
        "outputId": "a072a48a-8b6b-490f-d247-ec24d446d478"
      },
      "execution_count": null,
      "outputs": [
        {
          "output_type": "stream",
          "name": "stdout",
          "text": [
            "A:\n",
            "[ True False False]\n",
            "Any:\n",
            "True\n",
            "All:\n",
            "False\n"
          ]
        }
      ]
    },
    {
      "cell_type": "code",
      "source": [
        "# Комбинированные булевы выражения могут быть применены к\n",
        "# массивам по принципу элемент — элемент используя специальные функции\n",
        "# logical_and, logical_or и logical_not:\n",
        "import numpy as np\n",
        "a = np.array([1, 3, 0], float)\n",
        "aland=np.logical_and(a > 0, a < 3)\n",
        "print(\"A:\")\n",
        "print(a)\n",
        "print(\"logical_and(a > 0, a <; 3)\")\n",
        "print(aland)\n",
        "b = np.array([True, False, True], bool)\n",
        "blnot= np.logical_not(b)\n",
        "print(\"B:\")\n",
        "print(b)\n",
        "print(\"logical_not(b)\")\n",
        "print(blnot)\n",
        "c = np.array([False, True, False], bool)\n",
        "clor=np.logical_or(b, c)\n",
        "print(\"C:\")\n",
        "print(c)\n",
        "print(\"logical_or(b, c)\")\n",
        "print(clor)"
      ],
      "metadata": {
        "colab": {
          "base_uri": "https://localhost:8080/"
        },
        "id": "dYkJWY7th_J4",
        "outputId": "50076746-4b9b-4fec-f1eb-032acefd10f6"
      },
      "execution_count": null,
      "outputs": [
        {
          "output_type": "stream",
          "name": "stdout",
          "text": [
            "A:\n",
            "[1. 3. 0.]\n",
            "logical_and(a > 0, a <; 3)\n",
            "[ True False False]\n",
            "B:\n",
            "[ True False  True]\n",
            "logical_not(b)\n",
            "[False  True False]\n",
            "C:\n",
            "[False  True False]\n",
            "logical_or(b, c)\n",
            "[ True  True  True]\n"
          ]
        }
      ]
    },
    {
      "cell_type": "code",
      "source": [
        "# Массовое сравнение\n",
        "import numpy as np\n",
        "a = np.array([1, 3, 0], float)\n",
        "b=np.where(a  > 0, 3, 2)\n",
        "print(\"A:\")\n",
        "print(a)\n",
        "print(\"where(a > 0, 3, 2):\")\n",
        "print(b)"
      ],
      "metadata": {
        "colab": {
          "base_uri": "https://localhost:8080/"
        },
        "id": "Yok05h8aiek3",
        "outputId": "49238186-feac-4644-dfd5-116c64e601a8"
      },
      "execution_count": null,
      "outputs": [
        {
          "output_type": "stream",
          "name": "stdout",
          "text": [
            "A:\n",
            "[1. 3. 0.]\n",
            "where(a > 0, 3, 2):\n",
            "[3 3 2]\n"
          ]
        }
      ]
    },
    {
      "cell_type": "code",
      "source": [
        "# Функция nonzero возвращает кортеж индексов ненулевых значений\n",
        "import numpy as np\n",
        "a=np.array([[0, 1], [3, 0]], float)\n",
        "b=a.nonzero()\n",
        "print(\"A:\")\n",
        "print(a)\n",
        "print(\"B:\")\n",
        "print(b)"
      ],
      "metadata": {
        "colab": {
          "base_uri": "https://localhost:8080/"
        },
        "id": "Cr0hR92ui0LO",
        "outputId": "c1106dff-9990-4fa8-bee7-53e77fd5d57d"
      },
      "execution_count": null,
      "outputs": [
        {
          "output_type": "stream",
          "name": "stdout",
          "text": [
            "A:\n",
            "[[0. 1.]\n",
            " [3. 0.]]\n",
            "B:\n",
            "(array([0, 1]), array([1, 0]))\n"
          ]
        }
      ]
    },
    {
      "cell_type": "code",
      "source": [
        "# Проверка значения на конечность и NaN(not a number):\n",
        "import numpy as np\n",
        "a = np.array([1, np.NaN, np.Inf],\n",
        "float)\n",
        "print(\"A:\")\n",
        "print(a)\n",
        "b= np.isnan(a)\n",
        "print(\"isNan(a):\")\n",
        "print(b)\n",
        "c=np.isfinite(a)\n",
        "print(\"isfinite(a):\")\n",
        "print(c)"
      ],
      "metadata": {
        "colab": {
          "base_uri": "https://localhost:8080/"
        },
        "id": "LE5LaQaTi0UW",
        "outputId": "7290ef60-c2b6-43c3-e4ff-42e9f7ed9efc"
      },
      "execution_count": null,
      "outputs": [
        {
          "output_type": "stream",
          "name": "stdout",
          "text": [
            "A:\n",
            "[ 1. nan inf]\n",
            "isNan(a):\n",
            "[False  True False]\n",
            "isfinite(a):\n",
            "[ True False False]\n"
          ]
        }
      ]
    },
    {
      "cell_type": "code",
      "source": [
        "# Задание 1.\n",
        "import numpy as np\n",
        "x = np.linspace(-2 * np.pi, 2 * np.pi, 20)\n",
        "print(\"x:\")\n",
        "print(x)\n",
        "y=np.sin(x)**2 + np.cos(x)**2\n",
        "print(\"y\")\n",
        "print(y)\n",
        "z=np.all((np.sin(x)**2 + np.cos(x)**2).round() == 1)\n",
        "print(\"z:\")\n",
        "print(z)"
      ],
      "metadata": {
        "colab": {
          "base_uri": "https://localhost:8080/"
        },
        "id": "YeoEGpdei6m2",
        "outputId": "44d329c3-1d1b-4a2b-a152-1c80f9afdcf6"
      },
      "execution_count": null,
      "outputs": [
        {
          "output_type": "stream",
          "name": "stdout",
          "text": [
            "x:\n",
            "[-6.28318531 -5.62179738 -4.96040945 -4.29902153 -3.6376336  -2.97624567\n",
            " -2.31485774 -1.65346982 -0.99208189 -0.33069396  0.33069396  0.99208189\n",
            "  1.65346982  2.31485774  2.97624567  3.6376336   4.29902153  4.96040945\n",
            "  5.62179738  6.28318531]\n",
            "y\n",
            "[1. 1. 1. 1. 1. 1. 1. 1. 1. 1. 1. 1. 1. 1. 1. 1. 1. 1. 1. 1.]\n",
            "z:\n",
            "True\n"
          ]
        }
      ]
    },
    {
      "cell_type": "code",
      "source": [
        "print(\"For1. Даны целые числа K и N (N > 0). Вывести N раз число K.\")\n",
        "n = 5\n",
        "k = 4\n",
        "for i in range(n):\n",
        "  print(k)"
      ],
      "metadata": {
        "colab": {
          "base_uri": "https://localhost:8080/"
        },
        "id": "9NrDpDwtj2Dl",
        "outputId": "7d6b92d4-2810-447e-9bb2-175476c0cc64"
      },
      "execution_count": null,
      "outputs": [
        {
          "output_type": "stream",
          "name": "stdout",
          "text": [
            "For1. Даны целые числа K и N (N > 0). Вывести N раз число K.\n",
            "4\n",
            "4\n",
            "4\n",
            "4\n",
            "4\n"
          ]
        }
      ]
    },
    {
      "cell_type": "code",
      "source": [
        "print(\"For11. Дано целое число N (> 0). Найти произведение 1.1 * 1.2 * 1.3 * . . .\")\n",
        "n = 5\n",
        "k = 1.1\n",
        "proiz = k\n",
        "for i in range(n-1):\n",
        "  k+=0.1\n",
        "  proiz*=k\n",
        "print(proiz)"
      ],
      "metadata": {
        "colab": {
          "base_uri": "https://localhost:8080/"
        },
        "id": "sSznvj-ckdgM",
        "outputId": "57067c42-bac5-496b-c2d6-e5a3d3a1b934"
      },
      "execution_count": null,
      "outputs": [
        {
          "output_type": "stream",
          "name": "stdout",
          "text": [
            "For11. Дано целое число N (> 0). Найти произведение 1.1 * 1.2 * 1.3 * . . .\n",
            "3.6036000000000032\n"
          ]
        }
      ]
    }
  ]
}