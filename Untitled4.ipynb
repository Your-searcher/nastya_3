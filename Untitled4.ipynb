{
  "nbformat": 4,
  "nbformat_minor": 0,
  "metadata": {
    "colab": {
      "provenance": [],
      "collapsed_sections": [],
      "authorship_tag": "ABX9TyNKP48+3qCyKljivU/d63D3",
      "include_colab_link": true
    },
    "kernelspec": {
      "name": "python3",
      "display_name": "Python 3"
    },
    "language_info": {
      "name": "python"
    }
  },
  "cells": [
    {
      "cell_type": "markdown",
      "metadata": {
        "id": "view-in-github",
        "colab_type": "text"
      },
      "source": [
        "<a href=\"https://colab.research.google.com/github/Your-searcher/nastya_3/blob/main/Untitled4.ipynb\" target=\"_parent\"><img src=\"https://colab.research.google.com/assets/colab-badge.svg\" alt=\"Open In Colab\"/></a>"
      ]
    },
    {
      "cell_type": "markdown",
      "source": [
        "Numpy. Лекция 3. Векторная и матричная математика"
      ],
      "metadata": {
        "id": "q7kEePKrnTfx"
      }
    },
    {
      "cell_type": "code",
      "source": [
        "#Скалярное произведение векторов\n",
        "import numpy as np\n",
        "a = np.array([1, 2, 3], float)\n",
        "b = np.array([0, 1, 1], float)\n",
        "c=np.dot(a, b)\n",
        "print(\"A:\")\n",
        "print(a)\n",
        "print(\"B:\")\n",
        "print(b)\n",
        "print(\"np.dot(a, b):\")\n",
        "print(c)"
      ],
      "metadata": {
        "colab": {
          "base_uri": "https://localhost:8080/"
        },
        "id": "Bhdh8_AKnd_s",
        "outputId": "7eef55fe-ae91-434d-ac37-77f5a51b90bd"
      },
      "execution_count": null,
      "outputs": [
        {
          "output_type": "stream",
          "name": "stdout",
          "text": [
            "A:\n",
            "[1. 2. 3.]\n",
            "B:\n",
            "[0. 1. 1.]\n",
            "np.dot(a, b):\n",
            "5.0\n"
          ]
        }
      ]
    },
    {
      "cell_type": "code",
      "source": [
        "#Умножение матриц\n",
        "import numpy as np\n",
        "a = np.array([[0, 1], [2, 3]], float)\n",
        "b = np.array([2, 3], float)\n",
        "c = np.array([[1, 1], [4, 0]], float)\n",
        "d=np.dot(b, a)\n",
        "e=np.dot(a, b)\n",
        "x= np.dot(a, c)\n",
        "y= np.dot(c, a)\n",
        "print(\"A:\")\n",
        "print(a)\n",
        "print(\"\\n B:\")\n",
        "print(b)\n",
        "print(\"\\n np.dot(b, a):\")\n",
        "print(d)\n",
        "print(\"\\n np.dot(a, b):&\")\n",
        "print(e)\n",
        "print(\"\\n np.dot(a, c):\")\n",
        "print(x)\n",
        "print(\"\\n np.dot(c, a):\")\n",
        "print(y)"
      ],
      "metadata": {
        "id": "3-vy7gdCeRCO",
        "colab": {
          "base_uri": "https://localhost:8080/"
        },
        "outputId": "eced379e-cee3-41c1-df90-a649bb6bb531"
      },
      "execution_count": null,
      "outputs": [
        {
          "output_type": "stream",
          "name": "stdout",
          "text": [
            "A:\n",
            "[[0. 1.]\n",
            " [2. 3.]]\n",
            "\n",
            " B:\n",
            "[2. 3.]\n",
            "\n",
            " np.dot(b, a):\n",
            "[ 6. 11.]\n",
            "\n",
            " np.dot(a, b):&\n",
            "[ 3. 13.]\n",
            "\n",
            " np.dot(a, c):\n",
            "[[ 4.  0.]\n",
            " [14.  2.]]\n",
            "\n",
            " np.dot(c, a):\n",
            "[[2. 4.]\n",
            " [0. 4.]]\n"
          ]
        }
      ]
    },
    {
      "cell_type": "code",
      "source": [
        "# Скалярное, тензорное и внешнее произведение матриц и векторов\n",
        "import numpy as np\n",
        "a = np.array([1, 4, 0], float)\n",
        "b = np.array([2, 2, 1],\n",
        "float)\n",
        "c=np.outer(a, b)\n",
        "d=np.inner(a, b)\n",
        "e= np.cross(a, b)\n",
        "print(\"A:\")\n",
        "print(a)\n",
        "print(\"\\n B:\")\n",
        "print(b)\n",
        "print(\"\\n np.outer(a, b):\")\n",
        "print(c)\n",
        "print(\"\\n np.inner(a, b):\")\n",
        "print(d)\n",
        "print(\"\\n np.cross(a, b):\")\n",
        "print(e)"
      ],
      "metadata": {
        "colab": {
          "base_uri": "https://localhost:8080/"
        },
        "id": "O8-j0_F7erTd",
        "outputId": "a49fd19a-2f3d-4bf1-9c91-05699f1662f4"
      },
      "execution_count": null,
      "outputs": [
        {
          "output_type": "stream",
          "name": "stdout",
          "text": [
            "A:\n",
            "[1. 4. 0.]\n",
            "\n",
            " B:\n",
            "[2. 2. 1.]\n",
            "\n",
            " np.outer(a, b):\n",
            "[[2. 2. 1.]\n",
            " [8. 8. 4.]\n",
            " [0. 0. 0.]]\n",
            "\n",
            " np.inner(a, b):\n",
            "10.0\n",
            "\n",
            " np.cross(a, b):\n",
            "[ 4. -1. -6.]\n"
          ]
        }
      ]
    },
    {
      "cell_type": "code",
      "source": [
        "# Определитель матрицы\n",
        "import numpy as np\n",
        "a = np.array([[4, 2, 0], [9, 3, 7], [1, 2, 1]], float)\n",
        "d=np.linalg.det(a)\n",
        "print(\"A:\")\n",
        "print(a)\n",
        "print(\"\\n np.linalg.det(a):\")\n",
        "print(d)"
      ],
      "metadata": {
        "colab": {
          "base_uri": "https://localhost:8080/"
        },
        "id": "OneIpI18fKt5",
        "outputId": "2cd15cbf-8426-4d64-9653-06823bf95b71"
      },
      "execution_count": null,
      "outputs": [
        {
          "output_type": "stream",
          "name": "stdout",
          "text": [
            "A:\n",
            "[[4. 2. 0.]\n",
            " [9. 3. 7.]\n",
            " [1. 2. 1.]]\n",
            "\n",
            " np.linalg.det(a):\n",
            "-48.00000000000003\n"
          ]
        }
      ]
    },
    {
      "cell_type": "code",
      "source": [
        "# Cобственный вектор и собственное значение матрицы\n",
        "import numpy as np\n",
        "a = np.array([[4, 2, 0], [9, 3, 7], [1, 2, 1]], float)\n",
        "vals, vecs = np.linalg.eig(a)\n",
        "print(\"A:\")\n",
        "print(a)\n",
        "print(\"\\n vals:\")\n",
        "print(vals)\n",
        "print(\"\\n vecs:\")\n",
        "print(vecs)"
      ],
      "metadata": {
        "colab": {
          "base_uri": "https://localhost:8080/"
        },
        "id": "W3IEpcBofXPB",
        "outputId": "3e8c36dc-4450-4c33-b955-dcbe69980d90"
      },
      "execution_count": null,
      "outputs": [
        {
          "output_type": "stream",
          "name": "stdout",
          "text": [
            "A:\n",
            "[[4. 2. 0.]\n",
            " [9. 3. 7.]\n",
            " [1. 2. 1.]]\n",
            "\n",
            " vals:\n",
            "[ 8.85591316  1.9391628  -2.79507597]\n",
            "\n",
            " vecs:\n",
            "[[-0.3663565  -0.54736745  0.25928158]\n",
            " [-0.88949768  0.5640176  -0.88091903]\n",
            " [-0.27308752  0.61828231  0.39592263]]\n"
          ]
        }
      ]
    },
    {
      "cell_type": "code",
      "source": [
        "# Обратная матрица\n",
        "import numpy as np\n",
        "a = np.array([[4, 2, 0], [9, 3, 7], [1, 2, 1]], float)\n",
        "b = np.linalg.inv(a)\n",
        "c=np.dot(a, b)\n",
        "print(\"A:\")\n",
        "print(a)\n",
        "print(\"\\n np.linalg.inv(a):\")\n",
        "print(b)\n",
        "print(\"\\n np.dot(a, b):\")\n",
        "print(c)"
      ],
      "metadata": {
        "colab": {
          "base_uri": "https://localhost:8080/"
        },
        "id": "AExjikUKiGMl",
        "outputId": "8837fb15-d6ac-43ee-e145-bdce5ae3cc82"
      },
      "execution_count": null,
      "outputs": [
        {
          "output_type": "stream",
          "name": "stdout",
          "text": [
            "A:\n",
            "[[4. 2. 0.]\n",
            " [9. 3. 7.]\n",
            " [1. 2. 1.]]\n",
            "\n",
            " np.linalg.inv(a):\n",
            "[[ 0.22916667  0.04166667 -0.29166667]\n",
            " [ 0.04166667 -0.08333333  0.58333333]\n",
            " [-0.3125      0.125       0.125     ]]\n",
            "\n",
            " np.dot(a, b):\n",
            "[[1.00000000e+00 5.55111512e-17 0.00000000e+00]\n",
            " [0.00000000e+00 1.00000000e+00 2.22044605e-16]\n",
            " [0.00000000e+00 1.38777878e-17 1.00000000e+00]]\n"
          ]
        }
      ]
    },
    {
      "cell_type": "code",
      "source": [
        "# Возведение матрицы в степень n\n",
        "import numpy as np\n",
        "a = np.array([[1, 3,-1], [5, 2,0], [0,5,1]], float)\n",
        "b=np.linalg.matrix_power(a, 2)\n",
        "print(\"A:\")\n",
        "print(a)\n",
        "print(\"\\n np.matrix_power(a, 2) :\")\n",
        "print(b)"
      ],
      "metadata": {
        "colab": {
          "base_uri": "https://localhost:8080/"
        },
        "id": "1mD14hpgj67y",
        "outputId": "0f7fcbed-ede3-4811-d8d6-d6e06baed65c"
      },
      "execution_count": null,
      "outputs": [
        {
          "output_type": "stream",
          "name": "stdout",
          "text": [
            "A:\n",
            "[[ 1.  3. -1.]\n",
            " [ 5.  2.  0.]\n",
            " [ 0.  5.  1.]]\n",
            "\n",
            " np.matrix_power(a, 2) :\n",
            "[[16.  4. -2.]\n",
            " [15. 19. -5.]\n",
            " [25. 15.  1.]]\n"
          ]
        }
      ]
    },
    {
      "cell_type": "code",
      "source": [
        "# Ранг матрицы\n",
        "import numpy as np\n",
        "a = np.array([[1, 3,-1], [5, 2,0], [0,5,1]], float)\n",
        "b=np.linalg.matrix_rank(a)\n",
        "print(\"A:\")\n",
        "print(a)\n",
        "print(\"\\n np.linalg.matrix_rank(a) :\")\n",
        "print(b)"
      ],
      "metadata": {
        "colab": {
          "base_uri": "https://localhost:8080/"
        },
        "id": "HN6jEYsEkF8_",
        "outputId": "b70b7b5e-a86e-4367-c907-be5897401a2d"
      },
      "execution_count": null,
      "outputs": [
        {
          "output_type": "stream",
          "name": "stdout",
          "text": [
            "A:\n",
            "[[ 1.  3. -1.]\n",
            " [ 5.  2.  0.]\n",
            " [ 0.  5.  1.]]\n",
            "\n",
            " np.linalg.matrix_rank(a) :\n",
            "3\n"
          ]
        }
      ]
    },
    {
      "cell_type": "code",
      "source": [
        "# Транспонированная матрица\n",
        "import numpy as np\n",
        "import numpy as np\n",
        "a = np.array([[1, 3,-1], [5, 2,0], [0,5,1]], float)\n",
        "b=a.T\n",
        "print(\"A:\")\n",
        "print(a)\n",
        "print(\"\\n a.T :\")\n",
        "print(b)"
      ],
      "metadata": {
        "colab": {
          "base_uri": "https://localhost:8080/"
        },
        "id": "66oVYoFykRa3",
        "outputId": "47740a31-64ec-4d41-abc8-a832cf7bbaff"
      },
      "execution_count": null,
      "outputs": [
        {
          "output_type": "stream",
          "name": "stdout",
          "text": [
            "A:\n",
            "[[ 1.  3. -1.]\n",
            " [ 5.  2.  0.]\n",
            " [ 0.  5.  1.]]\n",
            "\n",
            " a.T :\n",
            "[[ 1.  5.  0.]\n",
            " [ 3.  2.  5.]\n",
            " [-1.  0.  1.]]\n"
          ]
        }
      ]
    },
    {
      "cell_type": "code",
      "source": [
        "# Cоединение матриц по горизонтали и по вертикали\n",
        "import numpy as np\n",
        "a = np.array([[0, 1], [2, 3]])\n",
        "b = np.array([[4, 5, 6], [7, 8, 9]])\n",
        "c = np.array([[4, 5], [6, 7], [8,9]])\n",
        "print(\"A:\")\n",
        "print(a)\n",
        "print(\"B:\")\n",
        "print(b)\n",
        "print(\"C:\")\n",
        "print(c)\n",
        "print(\"np.hstack((a, b)):\")\n",
        "d=np.hstack((a, b))\n",
        "print(d)\n",
        "print(\"np.vstack((a, c)):\")\n",
        "e=np.vstack((a, c))\n",
        "print(e)"
      ],
      "metadata": {
        "colab": {
          "base_uri": "https://localhost:8080/"
        },
        "id": "sjITcSv2koPm",
        "outputId": "df720009-49ca-4b9a-9823-58b6b4b4e649"
      },
      "execution_count": null,
      "outputs": [
        {
          "output_type": "stream",
          "name": "stdout",
          "text": [
            "A:\n",
            "[[0 1]\n",
            " [2 3]]\n",
            "B:\n",
            "[[4 5 6]\n",
            " [7 8 9]]\n",
            "C:\n",
            "[[4 5]\n",
            " [6 7]\n",
            " [8 9]]\n",
            "np.hstack((a, b)):\n",
            "[[0 1 4 5 6]\n",
            " [2 3 7 8 9]]\n",
            "np.vstack((a, c)):\n",
            "[[0 1]\n",
            " [2 3]\n",
            " [4 5]\n",
            " [6 7]\n",
            " [8 9]]\n"
          ]
        }
      ]
    },
    {
      "cell_type": "code",
      "source": [
        "# Сумма всех элементов; суммы столбцов; суммы строк\n",
        "import numpy as np\n",
        "a = np.array([[4, 5, 6], [7, 8,9]])\n",
        "print(\"A:\")\n",
        "print(a)\n",
        "print(\"a.sum():\")\n",
        "b=a.sum()\n",
        "print(b)\n",
        "print(\"a.sum(axis=0):\")\n",
        "c=a.sum(axis=0)\n",
        "print(c)"
      ],
      "metadata": {
        "colab": {
          "base_uri": "https://localhost:8080/"
        },
        "id": "Vomt23Xolxdd",
        "outputId": "937c695e-50f4-4dcb-b21c-667893ae8cd4"
      },
      "execution_count": null,
      "outputs": [
        {
          "output_type": "stream",
          "name": "stdout",
          "text": [
            "A:\n",
            "[[4 5 6]\n",
            " [7 8 9]]\n",
            "a.sum():\n",
            "39\n",
            "a.sum(axis=0):\n",
            "[11 13 15]\n"
          ]
        }
      ]
    },
    {
      "cell_type": "code",
      "source": [
        "# След - сумма диагональных элементов\n",
        "import numpy as np\n",
        "a = np.array([[0, 1], [2,3]])\n",
        "print(\"A:\")\n",
        "print(a)\n",
        "print(\"np.trace(a):\")\n",
        "b=np.trace(a)\n",
        "print(b)"
      ],
      "metadata": {
        "colab": {
          "base_uri": "https://localhost:8080/"
        },
        "id": "YXcY1BrNmbtB",
        "outputId": "3a246e32-203e-4de6-e258-a1922c9604a6"
      },
      "execution_count": null,
      "outputs": [
        {
          "output_type": "stream",
          "name": "stdout",
          "text": [
            "A:\n",
            "[[0 1]\n",
            " [2 3]]\n",
            "np.trace(a):\n",
            "3\n"
          ]
        }
      ]
    },
    {
      "cell_type": "code",
      "source": [
        "# RSS\n",
        "import numpy as np\n",
        "y = np.arange(1, 6)\n",
        "a = np.arange(3, -2, -1)\n",
        "print(\"y:\")\n",
        "print(y)\n",
        "print(\"a:\")\n",
        "print(a)\n",
        "rss = np.sum((y -a)**2)\n",
        "print(\"RSS=\", end=\"\")\n",
        "print(rss)"
      ],
      "metadata": {
        "colab": {
          "base_uri": "https://localhost:8080/"
        },
        "id": "UjyNe2BAmkop",
        "outputId": "ffd7d1c4-1b8a-4d79-916a-7e0baf0d3ff0"
      },
      "execution_count": null,
      "outputs": [
        {
          "output_type": "stream",
          "name": "stdout",
          "text": [
            "y:\n",
            "[1 2 3 4 5]\n",
            "a:\n",
            "[ 3  2  1  0 -1]\n",
            "RSS=60\n"
          ]
        }
      ]
    },
    {
      "cell_type": "code",
      "source": [
        "# Одиночное (cингулярное) разложение\n",
        "from calendar import c\n",
        "import numpy as np\n",
        "a = np.array([[1, 3,4], [5, 2, 3]], float)\n",
        "U, s, Vh = np.linalg.svd(a)\n",
        "print(\"A:\")\n",
        "print(a)\n",
        "print(\"\\n U:\")\n",
        "print(U)\n",
        "print(\"\\n s:\")\n",
        "print(s)\n",
        "print(\"\\n Vh:\")\n",
        "print(Vh)"
      ],
      "metadata": {
        "colab": {
          "base_uri": "https://localhost:8080/"
        },
        "id": "iXe6rLwlmmxp",
        "outputId": "df0e8192-38ad-41f0-8c6a-2307088c3533"
      },
      "execution_count": null,
      "outputs": [
        {
          "output_type": "stream",
          "name": "stdout",
          "text": [
            "A:\n",
            "[[1. 3. 4.]\n",
            " [5. 2. 3.]]\n",
            "\n",
            " U:\n",
            "[[-0.6113829  -0.79133492]\n",
            " [-0.79133492  0.6113829 ]]\n",
            "\n",
            " s:\n",
            "[7.46791327 2.86884495]\n",
            "\n",
            " Vh:\n",
            "[[-0.61169129 -0.45753324 -0.64536587]\n",
            " [ 0.78971838 -0.40129005 -0.46401635]\n",
            " [-0.046676   -0.79349205  0.60678804]]\n"
          ]
        }
      ]
    },
    {
      "cell_type": "code",
      "source": [
        "# Коэф-ы уравнения\n",
        "import numpy as np\n",
        "a=np.poly([-1, 1, 1, 10])\n",
        "print(\"A:\")\n",
        "print(a)"
      ],
      "metadata": {
        "colab": {
          "base_uri": "https://localhost:8080/"
        },
        "id": "HfUeXSJSnLwF",
        "outputId": "75401fdc-222f-4b27-f129-f39b193031c4"
      },
      "execution_count": null,
      "outputs": [
        {
          "output_type": "stream",
          "name": "stdout",
          "text": [
            "A:\n",
            "[  1. -11.   9.  11. -10.]\n"
          ]
        }
      ]
    },
    {
      "cell_type": "code",
      "source": [
        "# Система уравнений\n",
        "import numpy as np\n",
        "a = np.array([[0, 1], [2, 3]])\n",
        "v = np.array([0, 1],\n",
        "dtype=np.float64)\n",
        "print(\"A:\")\n",
        "print(a)\n",
        "print(\"\\n V:\")\n",
        "print(v)\n",
        "u = np.linalg.solve(a, v)\n",
        "print(\"\\n U:\")\n",
        "print(u)"
      ],
      "metadata": {
        "colab": {
          "base_uri": "https://localhost:8080/"
        },
        "id": "ExuBBOQwnmAN",
        "outputId": "0574634b-cc84-41a5-f01e-010232a3164d"
      },
      "execution_count": null,
      "outputs": [
        {
          "output_type": "stream",
          "name": "stdout",
          "text": [
            "A:\n",
            "[[0 1]\n",
            " [2 3]]\n",
            "\n",
            " V:\n",
            "[0. 1.]\n",
            "\n",
            " U:\n",
            "[0.5 0. ]\n"
          ]
        }
      ]
    },
    {
      "cell_type": "code",
      "source": [
        "# Диагональная матрица\n",
        "import numpy as np\n",
        "a = np.array([[0, 1], [2,3]])\n",
        "print(\"A:\")\n",
        "print(a)\n",
        "print(\"diag(a):\")\n",
        "L = np.diag(a)\n",
        "print(L)\n",
        "print(\"diag(L):\")\n",
        "print(np.diag(L))"
      ],
      "metadata": {
        "colab": {
          "base_uri": "https://localhost:8080/"
        },
        "id": "SEjUSfE9oA3v",
        "outputId": "74deb962-e8b8-4932-d0fb-c86cbf3109de"
      },
      "execution_count": null,
      "outputs": [
        {
          "output_type": "stream",
          "name": "stdout",
          "text": [
            "A:\n",
            "[[0 1]\n",
            " [2 3]]\n",
            "diag(a):\n",
            "[0 3]\n",
            "diag(L):\n",
            "[[0 0]\n",
            " [0 3]]\n"
          ]
        }
      ]
    },
    {
      "cell_type": "code",
      "source": [
        "print(\"Импортировать NumPy под именем np\")\n",
        "import numpy as np"
      ],
      "metadata": {
        "colab": {
          "base_uri": "https://localhost:8080/"
        },
        "id": "EUiATtu_obDB",
        "outputId": "2dc822e7-fed6-4281-eed1-e85ff277bd14"
      },
      "execution_count": null,
      "outputs": [
        {
          "output_type": "stream",
          "name": "stdout",
          "text": [
            "Импортировать NumPy под именем np\n"
          ]
        }
      ]
    },
    {
      "cell_type": "code",
      "source": [
        "print(\"Напечатать версию и конфигурацию\")\n",
        "import numpy as np\n",
        "print(np.__version__)\n",
        "np.show_config()"
      ],
      "metadata": {
        "colab": {
          "base_uri": "https://localhost:8080/"
        },
        "id": "sB1RShd1ogtg",
        "outputId": "7086be06-54ec-41d7-9d8d-c319359e7fdc"
      },
      "execution_count": null,
      "outputs": [
        {
          "output_type": "stream",
          "name": "stdout",
          "text": [
            "Напечатать версию и конфигурацию\n",
            "1.21.6\n",
            "blas_mkl_info:\n",
            "  NOT AVAILABLE\n",
            "blis_info:\n",
            "  NOT AVAILABLE\n",
            "openblas_info:\n",
            "    libraries = ['openblas', 'openblas']\n",
            "    library_dirs = ['/usr/local/lib']\n",
            "    language = c\n",
            "    define_macros = [('HAVE_CBLAS', None)]\n",
            "    runtime_library_dirs = ['/usr/local/lib']\n",
            "blas_opt_info:\n",
            "    libraries = ['openblas', 'openblas']\n",
            "    library_dirs = ['/usr/local/lib']\n",
            "    language = c\n",
            "    define_macros = [('HAVE_CBLAS', None)]\n",
            "    runtime_library_dirs = ['/usr/local/lib']\n",
            "lapack_mkl_info:\n",
            "  NOT AVAILABLE\n",
            "openblas_lapack_info:\n",
            "    libraries = ['openblas', 'openblas']\n",
            "    library_dirs = ['/usr/local/lib']\n",
            "    language = c\n",
            "    define_macros = [('HAVE_CBLAS', None)]\n",
            "    runtime_library_dirs = ['/usr/local/lib']\n",
            "lapack_opt_info:\n",
            "    libraries = ['openblas', 'openblas']\n",
            "    library_dirs = ['/usr/local/lib']\n",
            "    language = c\n",
            "    define_macros = [('HAVE_CBLAS', None)]\n",
            "    runtime_library_dirs = ['/usr/local/lib']\n",
            "Supported SIMD extensions in this NumPy install:\n",
            "    baseline = SSE,SSE2,SSE3\n",
            "    found = SSSE3,SSE41,POPCNT,SSE42,AVX,F16C,FMA3,AVX2\n",
            "    not found = AVX512F,AVX512CD,AVX512_KNL,AVX512_KNM,AVX512_SKX,AVX512_CLX,AVX512_CNL,AVX512_ICL\n"
          ]
        }
      ]
    },
    {
      "cell_type": "code",
      "source": [
        "print(\"Создать вектор (одномерный массив) размера 10, заполненный нулями\")\n",
        "Z = np.zeros(10)\n",
        "print(Z)"
      ],
      "metadata": {
        "colab": {
          "base_uri": "https://localhost:8080/"
        },
        "id": "zmBfFz1gog0v",
        "outputId": "18b14386-40dc-468b-aaf5-3f172196afa9"
      },
      "execution_count": null,
      "outputs": [
        {
          "output_type": "stream",
          "name": "stdout",
          "text": [
            "Создать вектор (одномерный массив) размера 10, заполненный нулями\n",
            "[0. 0. 0. 0. 0. 0. 0. 0. 0. 0.]\n"
          ]
        }
      ]
    },
    {
      "cell_type": "code",
      "source": [
        "print(\"Создать вектор размера 10, заполненный единицами\")\n",
        "Z = np.ones(10)\n",
        "print(Z)"
      ],
      "metadata": {
        "colab": {
          "base_uri": "https://localhost:8080/"
        },
        "id": "o4OfEO28olVR",
        "outputId": "b5c4da56-3a98-433f-ae94-d91f6d82553f"
      },
      "execution_count": null,
      "outputs": [
        {
          "output_type": "stream",
          "name": "stdout",
          "text": [
            "Создать вектор размера 10, заполненный единицами\n",
            "[1. 1. 1. 1. 1. 1. 1. 1. 1. 1.]\n"
          ]
        }
      ]
    },
    {
      "cell_type": "code",
      "source": [
        "print(\"Создать вектор размера 10, заполненный числом 2.5\")\n",
        "Z = np.full(10, 2.5)\n",
        "print(Z)"
      ],
      "metadata": {
        "colab": {
          "base_uri": "https://localhost:8080/"
        },
        "id": "yw8ysyE1olYR",
        "outputId": "cbfd4a12-6d05-4a83-a11f-8c4e33d6b45f"
      },
      "execution_count": null,
      "outputs": [
        {
          "output_type": "stream",
          "name": "stdout",
          "text": [
            "Создать вектор размера 10, заполненный числом 2.5\n",
            "[2.5 2.5 2.5 2.5 2.5 2.5 2.5 2.5 2.5 2.5]\n"
          ]
        }
      ]
    },
    {
      "cell_type": "code",
      "source": [
        "# Справка\n",
        "import numpy; numpy.info(numpy.add)"
      ],
      "metadata": {
        "colab": {
          "base_uri": "https://localhost:8080/"
        },
        "id": "cwfBm-EYola4",
        "outputId": "6054bd42-9c81-439a-ed5b-19859e5766db"
      },
      "execution_count": null,
      "outputs": [
        {
          "output_type": "stream",
          "name": "stdout",
          "text": [
            "add(x1, x2, /, out=None, *, where=True, casting='same_kind', order='K', dtype=None, subok=True[, signature, extobj])\n",
            "\n",
            "Add arguments element-wise.\n",
            "\n",
            "Parameters\n",
            "----------\n",
            "x1, x2 : array_like\n",
            "    The arrays to be added.\n",
            "    If ``x1.shape != x2.shape``, they must be broadcastable to a common\n",
            "    shape (which becomes the shape of the output).\n",
            "out : ndarray, None, or tuple of ndarray and None, optional\n",
            "    A location into which the result is stored. If provided, it must have\n",
            "    a shape that the inputs broadcast to. If not provided or None,\n",
            "    a freshly-allocated array is returned. A tuple (possible only as a\n",
            "    keyword argument) must have length equal to the number of outputs.\n",
            "where : array_like, optional\n",
            "    This condition is broadcast over the input. At locations where the\n",
            "    condition is True, the `out` array will be set to the ufunc result.\n",
            "    Elsewhere, the `out` array will retain its original value.\n",
            "    Note that if an uninitialized `out` array is created via the default\n",
            "    ``out=None``, locations within it where the condition is False will\n",
            "    remain uninitialized.\n",
            "**kwargs\n",
            "    For other keyword-only arguments, see the\n",
            "    :ref:`ufunc docs <ufuncs.kwargs>`.\n",
            "\n",
            "Returns\n",
            "-------\n",
            "add : ndarray or scalar\n",
            "    The sum of `x1` and `x2`, element-wise.\n",
            "    This is a scalar if both `x1` and `x2` are scalars.\n",
            "\n",
            "Notes\n",
            "-----\n",
            "Equivalent to `x1` + `x2` in terms of array broadcasting.\n",
            "\n",
            "Examples\n",
            "--------\n",
            ">>> np.add(1.0, 4.0)\n",
            "5.0\n",
            ">>> x1 = np.arange(9.0).reshape((3, 3))\n",
            ">>> x2 = np.arange(3.0)\n",
            ">>> np.add(x1, x2)\n",
            "array([[  0.,   2.,   4.],\n",
            "       [  3.,   5.,   7.],\n",
            "       [  6.,   8.,  10.]])\n",
            "\n",
            "The ``+`` operator can be used as a shorthand for ``np.add`` on ndarrays.\n",
            "\n",
            ">>> x1 = np.arange(9.0).reshape((3, 3))\n",
            ">>> x2 = np.arange(3.0)\n",
            ">>> x1 + x2\n",
            "array([[ 0.,  2.,  4.],\n",
            "       [ 3.,  5.,  7.],\n",
            "       [ 6.,  8., 10.]])\n"
          ]
        }
      ]
    },
    {
      "cell_type": "code",
      "source": [
        "print(\"Создать вектор размера 10, заполненный нулями, но пятый элемент равен 1\")\n",
        "import numpy as np\n",
        "Z = np.zeros(10)\n",
        "Z[4] = 1\n",
        "print(Z)"
      ],
      "metadata": {
        "id": "zJCg78yzold4",
        "colab": {
          "base_uri": "https://localhost:8080/"
        },
        "outputId": "4bfd6bbc-b1dc-4380-c044-8092f42c008c"
      },
      "execution_count": null,
      "outputs": [
        {
          "output_type": "stream",
          "name": "stdout",
          "text": [
            "Создать вектор размера 10, заполненный нулями, но пятый элемент равен 1\n",
            "[0. 0. 0. 0. 1. 0. 0. 0. 0. 0.]\n"
          ]
        }
      ]
    },
    {
      "cell_type": "code",
      "source": [
        "print(\"Создать вектор со значениями от 10 до 49\")\n",
        "Z = np.arange(10,50)\n",
        "print(Z)\n",
        "print(\"Развернуть вектор (первый становится последним)\")\n",
        "Z = np.arange(50)\n",
        "Z = Z[::-1]"
      ],
      "metadata": {
        "colab": {
          "base_uri": "https://localhost:8080/"
        },
        "id": "Yiw5Q56TzzOd",
        "outputId": "eed7bdeb-46a6-4eb8-b617-f66ad1ea54da"
      },
      "execution_count": null,
      "outputs": [
        {
          "output_type": "stream",
          "name": "stdout",
          "text": [
            "Создать вектор со значениями от 10 до 49\n",
            "[10 11 12 13 14 15 16 17 18 19 20 21 22 23 24 25 26 27 28 29 30 31 32 33\n",
            " 34 35 36 37 38 39 40 41 42 43 44 45 46 47 48 49]\n",
            "Развернуть вектор (первый становится последним)\n"
          ]
        }
      ]
    },
    {
      "cell_type": "code",
      "source": [
        "print(\"Создать матрицу (двумерный массив) 3x3 со значениями от 0 до 8\")\n",
        "Z = np.arange(9).reshape(3,3)\n",
        "print(Z)"
      ],
      "metadata": {
        "colab": {
          "base_uri": "https://localhost:8080/"
        },
        "id": "dcL8X-CM0IKE",
        "outputId": "1831a0c8-12ba-47f8-b19b-c9813608e7ef"
      },
      "execution_count": null,
      "outputs": [
        {
          "output_type": "stream",
          "name": "stdout",
          "text": [
            "Создать матрицу (двумерный массив) 3x3 со значениями от 0 до 8\n",
            "[[0 1 2]\n",
            " [3 4 5]\n",
            " [6 7 8]]\n"
          ]
        }
      ]
    },
    {
      "cell_type": "code",
      "source": [
        "print(\"Найти индексы ненулевых элементов в [1,2,0,0,4,0]\")\n",
        "nz = np.nonzero([1,2,0,0,4,0])\n",
        "print(nz)"
      ],
      "metadata": {
        "colab": {
          "base_uri": "https://localhost:8080/"
        },
        "id": "Y2QN0yuD0IPs",
        "outputId": "808f1a7a-2a39-44e3-c8c5-c4390b583b5c"
      },
      "execution_count": null,
      "outputs": [
        {
          "output_type": "stream",
          "name": "stdout",
          "text": [
            "Найти индексы ненулевых элементов в [1,2,0,0,4,0]\n",
            "(array([0, 1, 4]),)\n"
          ]
        }
      ]
    },
    {
      "cell_type": "code",
      "source": [
        "print(\"Создать 3x3 единичную матрицу\")\n",
        "Z = np.eye(3)\n",
        "print(Z)"
      ],
      "metadata": {
        "colab": {
          "base_uri": "https://localhost:8080/"
        },
        "id": "twXSXK0B0ITx",
        "outputId": "80b93d28-ebb0-46b5-eec9-b9f0633bd360"
      },
      "execution_count": null,
      "outputs": [
        {
          "output_type": "stream",
          "name": "stdout",
          "text": [
            "Создать 3x3 единичную матрицу\n",
            "[[1. 0. 0.]\n",
            " [0. 1. 0.]\n",
            " [0. 0. 1.]]\n"
          ]
        }
      ]
    },
    {
      "cell_type": "code",
      "source": [
        "print(\"Создать массив 3x3x3 со случайными значениями\")\n",
        "Z = np.random.random((3,3,3))\n",
        "print(Z)"
      ],
      "metadata": {
        "colab": {
          "base_uri": "https://localhost:8080/"
        },
        "id": "uLb_YRR60IW5",
        "outputId": "0fe84a2e-d6ce-4199-ad50-e4c9d0a6dcc2"
      },
      "execution_count": null,
      "outputs": [
        {
          "output_type": "stream",
          "name": "stdout",
          "text": [
            "Создать массив 3x3x3 со случайными значениями\n",
            "[[[0.48176149 0.72624977 0.90480515]\n",
            "  [0.2527311  0.93663893 0.71269193]\n",
            "  [0.51925314 0.81680572 0.94090742]]\n",
            "\n",
            " [[0.68088895 0.61098734 0.52313276]\n",
            "  [0.00583728 0.56380165 0.5359162 ]\n",
            "  [0.15934151 0.31942984 0.96443837]]\n",
            "\n",
            " [[0.96183303 0.94136464 0.91956801]\n",
            "  [0.61796797 0.42394077 0.42357647]\n",
            "  [0.45077757 0.56349403 0.17221069]]]\n"
          ]
        }
      ]
    },
    {
      "cell_type": "code",
      "source": [
        "print(\"Создать массив 10x10 со случайными значениями, найти минимум и максимум\")\n",
        "Z = np.random.random((10,10))\n",
        "Zmin, Zmax = Z.min(), Z.max()\n",
        "print(Zmin, Zmax)"
      ],
      "metadata": {
        "colab": {
          "base_uri": "https://localhost:8080/"
        },
        "id": "7rGYNjxk0IaK",
        "outputId": "7ddbd356-911d-49f4-ba07-b00b12de1f46"
      },
      "execution_count": null,
      "outputs": [
        {
          "output_type": "stream",
          "name": "stdout",
          "text": [
            "Создать массив 10x10 со случайными значениями, найти минимум и максимум\n",
            "0.026149808610595904 0.987720164850171\n"
          ]
        }
      ]
    },
    {
      "cell_type": "code",
      "source": [
        "print(\"Создать случайный вектор размера 30 и найти среднее значение всех элементов\")\n",
        "Z = np.random.random(30)\n",
        "m = Z.mean()\n",
        "print(m)"
      ],
      "metadata": {
        "colab": {
          "base_uri": "https://localhost:8080/"
        },
        "id": "23YBs0Vi0IiR",
        "outputId": "c25c6acd-88ce-45a2-aac3-4ded9003ecf3"
      },
      "execution_count": null,
      "outputs": [
        {
          "output_type": "stream",
          "name": "stdout",
          "text": [
            "Создать случайный вектор размера 30 и найти среднее значение всех элементов\n",
            "0.39902070826739894\n"
          ]
        }
      ]
    },
    {
      "cell_type": "code",
      "source": [
        "print(\"Создать матрицу с 0 внутри, и 1 на границах\")\n",
        "Z = np.ones((10,10))\n",
        "Z[1:-1,1:-1] = 0"
      ],
      "metadata": {
        "colab": {
          "base_uri": "https://localhost:8080/"
        },
        "id": "EZrvRz7a0Ilp",
        "outputId": "c59cc702-5b24-441e-b7fe-6079e601e0dc"
      },
      "execution_count": null,
      "outputs": [
        {
          "output_type": "stream",
          "name": "stdout",
          "text": [
            "Создать матрицу с 0 внутри, и 1 на границах\n"
          ]
        }
      ]
    },
    {
      "cell_type": "code",
      "source": [
        "print(\"Выяснить результат следующих выражений\")\n",
        "0 * np.nan\n",
        "np.nan == np.nan\n",
        "np.inf > np.nan\n",
        "np.nan - np.nan\n",
        "0.3 == 3 * 0.1"
      ],
      "metadata": {
        "colab": {
          "base_uri": "https://localhost:8080/"
        },
        "id": "JjfKb2az0xdk",
        "outputId": "6c8b6623-4062-4473-bac1-0d962e4e39db"
      },
      "execution_count": null,
      "outputs": [
        {
          "output_type": "stream",
          "name": "stdout",
          "text": [
            "Выяснить результат следующих выражений\n"
          ]
        },
        {
          "output_type": "execute_result",
          "data": {
            "text/plain": [
              "False"
            ]
          },
          "metadata": {},
          "execution_count": 16
        }
      ]
    },
    {
      "cell_type": "code",
      "source": [
        "print(\"Создать 5x5 матрицу с 1,2,3,4 под диагональю\")\n",
        "Z = np.diag(np.arange(1, 5), k=-1)\n",
        "print(Z)"
      ],
      "metadata": {
        "colab": {
          "base_uri": "https://localhost:8080/"
        },
        "id": "U9I-gSwz0xgw",
        "outputId": "d82ad21a-6947-48cd-ae01-57649468a511"
      },
      "execution_count": null,
      "outputs": [
        {
          "output_type": "stream",
          "name": "stdout",
          "text": [
            "Создать 5x5 матрицу с 1,2,3,4 под диагональю\n",
            "[[0 0 0 0 0]\n",
            " [1 0 0 0 0]\n",
            " [0 2 0 0 0]\n",
            " [0 0 3 0 0]\n",
            " [0 0 0 4 0]]\n"
          ]
        }
      ]
    },
    {
      "cell_type": "code",
      "source": [
        "print(\"Создать 8x8 матрицу и заполнить её в шахматном порядке\")\n",
        "Z = np.zeros((8,8), dtype=int)\n",
        "Z[1::2,::2] = 1\n",
        "Z[::2,1::2] = 1\n",
        "print(Z)"
      ],
      "metadata": {
        "colab": {
          "base_uri": "https://localhost:8080/"
        },
        "id": "QH6hvQFz0xkR",
        "outputId": "9b282059-d69d-4c51-a283-c9063ec97b94"
      },
      "execution_count": null,
      "outputs": [
        {
          "output_type": "stream",
          "name": "stdout",
          "text": [
            "Создать 8x8 матрицу и заполнить её в шахматном порядке\n",
            "[[0 1 0 1 0 1 0 1]\n",
            " [1 0 1 0 1 0 1 0]\n",
            " [0 1 0 1 0 1 0 1]\n",
            " [1 0 1 0 1 0 1 0]\n",
            " [0 1 0 1 0 1 0 1]\n",
            " [1 0 1 0 1 0 1 0]\n",
            " [0 1 0 1 0 1 0 1]\n",
            " [1 0 1 0 1 0 1 0]]\n"
          ]
        }
      ]
    },
    {
      "cell_type": "code",
      "source": [
        "print(\"Дан массив размерности (6,7,8). Каков индекс (x,y,z) сотого элемента?\")\n",
        "print(np.unravel_index(100, (6,7,8)))"
      ],
      "metadata": {
        "colab": {
          "base_uri": "https://localhost:8080/"
        },
        "id": "ojAmAwx-0xnQ",
        "outputId": "7b8790b4-7808-43e6-a4f0-88da1ea59332"
      },
      "execution_count": null,
      "outputs": [
        {
          "output_type": "stream",
          "name": "stdout",
          "text": [
            "Дан массив размерности (6,7,8). Каков индекс (x,y,z) сотого элемента?\n",
            "(1, 5, 4)\n"
          ]
        }
      ]
    },
    {
      "cell_type": "code",
      "source": [
        "print(\"Создать 8x8 матрицу и заполнить её в шахматном порядке, используя функцию tile\")\n",
        "Z = np.tile(np.array([[0,1],[1,0]]), (4,4))\n",
        "print(Z)"
      ],
      "metadata": {
        "colab": {
          "base_uri": "https://localhost:8080/"
        },
        "id": "KCwbbtyO1mwa",
        "outputId": "716d9190-725b-43f2-eedb-c5a407dc424f"
      },
      "execution_count": null,
      "outputs": [
        {
          "output_type": "stream",
          "name": "stdout",
          "text": [
            "Создать 8x8 матрицу и заполнить её в шахматном порядке, используя функцию tile\n",
            "[[0 1 0 1 0 1 0 1]\n",
            " [1 0 1 0 1 0 1 0]\n",
            " [0 1 0 1 0 1 0 1]\n",
            " [1 0 1 0 1 0 1 0]\n",
            " [0 1 0 1 0 1 0 1]\n",
            " [1 0 1 0 1 0 1 0]\n",
            " [0 1 0 1 0 1 0 1]\n",
            " [1 0 1 0 1 0 1 0]]\n"
          ]
        }
      ]
    },
    {
      "cell_type": "code",
      "source": [
        "print(\"Перемножить матрицы 5x3 и 3x2\")\n",
        "Z = np.dot(np.ones((5,3)), np.ones((3,2)))\n",
        "print(Z)"
      ],
      "metadata": {
        "colab": {
          "base_uri": "https://localhost:8080/"
        },
        "id": "Eb2-Il9b1m0A",
        "outputId": "b35982c6-58c8-4d28-fa6a-81b9c026b5d5"
      },
      "execution_count": null,
      "outputs": [
        {
          "output_type": "stream",
          "name": "stdout",
          "text": [
            "Перемножить матрицы 5x3 и 3x2\n",
            "[[3. 3.]\n",
            " [3. 3.]\n",
            " [3. 3.]\n",
            " [3. 3.]\n",
            " [3. 3.]]\n"
          ]
        }
      ]
    },
    {
      "cell_type": "code",
      "source": [
        "print(\"Дан массив, поменять знак у элементов, значения которых между 3 и 8\")\n",
        "Z = np.arange(11)\n",
        "Z[(3 < Z) & (Z <= 8)] *= -1\n",
        "print(Z)"
      ],
      "metadata": {
        "colab": {
          "base_uri": "https://localhost:8080/"
        },
        "id": "HB0lAykT1m2-",
        "outputId": "d8e8447b-1ce5-4868-af86-d45dd7763ad6"
      },
      "execution_count": null,
      "outputs": [
        {
          "output_type": "stream",
          "name": "stdout",
          "text": [
            "Дан массив, поменять знак у элементов, значения которых между 3 и 8\n",
            "[ 0  1  2  3 -4 -5 -6 -7 -8  9 10]\n"
          ]
        }
      ]
    },
    {
      "cell_type": "code",
      "source": [
        "print(\"Создать 5x5 матрицу со значениями в строках от 0 до 4\")\n",
        "Z = np.zeros((5,5))\n",
        "Z += np.arange(5)\n",
        "print(Z)"
      ],
      "metadata": {
        "colab": {
          "base_uri": "https://localhost:8080/"
        },
        "id": "gLHn1weL1m6C",
        "outputId": "d3b89747-beff-4f6f-dabe-cf6550a2bd1d"
      },
      "execution_count": null,
      "outputs": [
        {
          "output_type": "stream",
          "name": "stdout",
          "text": [
            "Создать 5x5 матрицу со значениями в строках от 0 до 4\n",
            "[[0. 1. 2. 3. 4.]\n",
            " [0. 1. 2. 3. 4.]\n",
            " [0. 1. 2. 3. 4.]\n",
            " [0. 1. 2. 3. 4.]\n",
            " [0. 1. 2. 3. 4.]]\n"
          ]
        }
      ]
    },
    {
      "cell_type": "code",
      "source": [
        "print(\"Создать вектор размера 10 со значениями от 0 до 1, не включая ни то, ни другое\")\n",
        "Z = np.linspace(0,1,12)[1:-1]\n",
        "print(Z)"
      ],
      "metadata": {
        "colab": {
          "base_uri": "https://localhost:8080/"
        },
        "id": "WQGs8WwR1m_W",
        "outputId": "9bf22f7c-f562-4eac-afd3-1adab8200fa3"
      },
      "execution_count": null,
      "outputs": [
        {
          "output_type": "stream",
          "name": "stdout",
          "text": [
            "Создать вектор размера 10 со значениями от 0 до 1, не включая ни то, ни другое\n",
            "[0.09090909 0.18181818 0.27272727 0.36363636 0.45454545 0.54545455\n",
            " 0.63636364 0.72727273 0.81818182 0.90909091]\n"
          ]
        }
      ]
    },
    {
      "cell_type": "code",
      "source": [
        "print(\"Отсортировать вектор\")\n",
        "Z = np.random.random(10)\n",
        "Z.sort()\n",
        "print(Z)"
      ],
      "metadata": {
        "colab": {
          "base_uri": "https://localhost:8080/"
        },
        "id": "M4fBhFrq1nCH",
        "outputId": "2df46e05-b01f-4408-ac51-95e255ca95ea"
      },
      "execution_count": null,
      "outputs": [
        {
          "output_type": "stream",
          "name": "stdout",
          "text": [
            "Отсортировать вектор\n",
            "[0.0819641  0.34436802 0.43369939 0.44189848 0.55241167 0.61333662\n",
            " 0.6347554  0.64440508 0.66275782 0.89546316]\n"
          ]
        }
      ]
    },
    {
      "cell_type": "code",
      "source": [
        "print(\"Проверить, одинаковы ли 2 numpy массива\")\n",
        "A = np.random.randint(0,2,5)\n",
        "B = np.random.randint(0,2,5)\n",
        "equal = np.allclose(A,B)\n",
        "print(equal)"
      ],
      "metadata": {
        "colab": {
          "base_uri": "https://localhost:8080/"
        },
        "id": "XEZ_i3Ld1nPO",
        "outputId": "1cbfab63-8171-4876-abb2-a7dd3395a67e"
      },
      "execution_count": null,
      "outputs": [
        {
          "output_type": "stream",
          "name": "stdout",
          "text": [
            "Проверить, одинаковы ли 2 numpy массива\n",
            "False\n"
          ]
        }
      ]
    },
    {
      "cell_type": "code",
      "source": [
        "print(\"Сделать массив неизменяемым\")\n",
        "import numpy as np\n",
        "Z = np.zeros(10)\n",
        "Z.flags.writeable = False\n",
        "Z[0] = 1"
      ],
      "metadata": {
        "colab": {
          "base_uri": "https://localhost:8080/",
          "height": 217
        },
        "id": "K8bix7z71nSp",
        "outputId": "c9099244-4fec-47fd-965d-3617763ee6a7"
      },
      "execution_count": null,
      "outputs": [
        {
          "output_type": "stream",
          "name": "stdout",
          "text": [
            "Сделать массив неизменяемым\n"
          ]
        },
        {
          "output_type": "error",
          "ename": "ValueError",
          "evalue": "ignored",
          "traceback": [
            "\u001b[0;31m---------------------------------------------------------------------------\u001b[0m",
            "\u001b[0;31mValueError\u001b[0m                                Traceback (most recent call last)",
            "\u001b[0;32m<ipython-input-30-10a50c6932f0>\u001b[0m in \u001b[0;36m<module>\u001b[0;34m\u001b[0m\n\u001b[1;32m      3\u001b[0m \u001b[0mZ\u001b[0m \u001b[0;34m=\u001b[0m \u001b[0mnp\u001b[0m\u001b[0;34m.\u001b[0m\u001b[0mzeros\u001b[0m\u001b[0;34m(\u001b[0m\u001b[0;36m10\u001b[0m\u001b[0;34m)\u001b[0m\u001b[0;34m\u001b[0m\u001b[0;34m\u001b[0m\u001b[0m\n\u001b[1;32m      4\u001b[0m \u001b[0mZ\u001b[0m\u001b[0;34m.\u001b[0m\u001b[0mflags\u001b[0m\u001b[0;34m.\u001b[0m\u001b[0mwriteable\u001b[0m \u001b[0;34m=\u001b[0m \u001b[0;32mFalse\u001b[0m\u001b[0;34m\u001b[0m\u001b[0;34m\u001b[0m\u001b[0m\n\u001b[0;32m----> 5\u001b[0;31m \u001b[0mZ\u001b[0m\u001b[0;34m[\u001b[0m\u001b[0;36m0\u001b[0m\u001b[0;34m]\u001b[0m \u001b[0;34m=\u001b[0m \u001b[0;36m1\u001b[0m\u001b[0;34m\u001b[0m\u001b[0;34m\u001b[0m\u001b[0m\n\u001b[0m",
            "\u001b[0;31mValueError\u001b[0m: assignment destination is read-only"
          ]
        }
      ]
    },
    {
      "cell_type": "code",
      "source": [
        "print(\"Дан массив 10x2 (точки в декартовой системе координат), преобразовать в полярную\")\n",
        "Z = np.random.random((10,2))\n",
        "X,Y = Z[:,0], Z[:,1]\n",
        "R = np.hypot(X, Y)\n",
        "T = np.arctan2(Y,X)\n",
        "print(R)\n",
        "print(T)"
      ],
      "metadata": {
        "colab": {
          "base_uri": "https://localhost:8080/"
        },
        "id": "Su1uUJdp2bhT",
        "outputId": "2a71aca1-3eee-4cf9-abbd-312230012f06"
      },
      "execution_count": null,
      "outputs": [
        {
          "output_type": "stream",
          "name": "stdout",
          "text": [
            "Дан массив 10x2 (точки в декартовой системе координат), преобразовать в полярную\n",
            "[0.74348521 0.49621552 0.56757403 1.13506687 0.99374908 0.93246025\n",
            " 0.69949948 1.28051381 0.77235385 0.78408161]\n",
            "[0.78688953 1.56585539 0.90181587 0.64231174 0.51868471 0.79257924\n",
            " 1.31396476 0.85544731 1.40614093 1.56488618]\n"
          ]
        }
      ]
    },
    {
      "cell_type": "code",
      "source": [
        "print(\"Заменить максимальный элемент на ноль\")\n",
        "Z = np.random.random(10)\n",
        "Z[Z.argmax()] = 0\n",
        "print(Z)"
      ],
      "metadata": {
        "colab": {
          "base_uri": "https://localhost:8080/"
        },
        "id": "4leSzMRE2bkh",
        "outputId": "efd542af-b01d-42b5-e1ed-dd9172ab3eec"
      },
      "execution_count": null,
      "outputs": [
        {
          "output_type": "stream",
          "name": "stdout",
          "text": [
            "Заменить максимальный элемент на ноль\n",
            "[0.79161417 0.12096488 0.57313466 0.6411353  0.06705275 0.08658326\n",
            " 0.53849812 0.80874192 0.40539171 0.        ]\n"
          ]
        }
      ]
    },
    {
      "cell_type": "code",
      "source": [
        "print(\"Найти минимальное и максимальное значение, принимаемое каждым числовым типом numpy\")\n",
        "for dtype in [np.int8, np.int32, np.int64]:\n",
        "  print(np.iinfo(dtype).min)\n",
        "  print(np.iinfo(dtype).max)\n",
        "for dtype in [np.float32, np.float64]:\n",
        "  print(np.finfo(dtype).min)\n",
        "  print(np.finfo(dtype).max)\n",
        "  print(np.finfo(dtype).eps)"
      ],
      "metadata": {
        "colab": {
          "base_uri": "https://localhost:8080/"
        },
        "id": "4E0j8QdS2bqA",
        "outputId": "0504d941-556d-47b9-dcf9-1209f8a90682"
      },
      "execution_count": null,
      "outputs": [
        {
          "output_type": "stream",
          "name": "stdout",
          "text": [
            "Найти минимальное и максимальное значение, принимаемое каждым числовым типом numpy\n",
            "-128\n",
            "127\n",
            "-2147483648\n",
            "2147483647\n",
            "-9223372036854775808\n",
            "9223372036854775807\n",
            "-3.4028235e+38\n",
            "3.4028235e+38\n",
            "1.1920929e-07\n",
            "-1.7976931348623157e+308\n",
            "1.7976931348623157e+308\n",
            "2.220446049250313e-16\n"
          ]
        }
      ]
    },
    {
      "cell_type": "code",
      "source": [
        "print(\"Найти ближайшее к заданному значению число в заданном массиве\")\n",
        "Z = np.arange(100)\n",
        "v = np.random.uniform(0,100)\n",
        "index = (np.abs(Z-v)).argmin()\n",
        "print(Z[index])"
      ],
      "metadata": {
        "colab": {
          "base_uri": "https://localhost:8080/"
        },
        "id": "Rq6DdUiq2bvg",
        "outputId": "9f166db7-0a04-47dc-8227-066aa66d1537"
      },
      "execution_count": null,
      "outputs": [
        {
          "output_type": "stream",
          "name": "stdout",
          "text": [
            "Найти ближайшее к заданному значению число в заданном массиве\n",
            "65\n"
          ]
        }
      ]
    },
    {
      "cell_type": "code",
      "source": [
        "print(\"Дан массив (100,2) координат, найти расстояние от каждой точки до каждой\")\n",
        "import scipy.spatial\n",
        "Z = np.random.random((10,2))\n",
        "D = scipy.spatial.distance.cdist(Z,Z)\n",
        "print(D)"
      ],
      "metadata": {
        "colab": {
          "base_uri": "https://localhost:8080/"
        },
        "id": "DYr0HZRc2b1I",
        "outputId": "53a4ed9c-6410-4954-d300-cd04f97cb867"
      },
      "execution_count": null,
      "outputs": [
        {
          "output_type": "stream",
          "name": "stdout",
          "text": [
            "Дан массив (100,2) координат, найти расстояние от каждой точки до каждой\n",
            "[[0.         0.46688397 0.63338822 0.68327297 0.04626413 0.61898989\n",
            "  0.48433841 0.45623854 0.76755077 0.39826013]\n",
            " [0.46688397 0.         0.31239466 0.26053714 0.42072422 0.16855954\n",
            "  0.60172302 0.7716176  0.30603302 0.1988106 ]\n",
            " [0.63338822 0.31239466 0.         0.16108954 0.59456195 0.38598953\n",
            "  0.49403087 1.03048607 0.4247368  0.50698042]\n",
            " [0.68327297 0.26053714 0.16108954 0.         0.63954473 0.26185315\n",
            "  0.63887318 1.02971903 0.26789533 0.45502169]\n",
            " [0.04626413 0.42072422 0.59456195 0.63954473 0.         0.57285332\n",
            "  0.48018056 0.47388098 0.72131119 0.3555657 ]\n",
            " [0.61898989 0.16855954 0.38598953 0.26185315 0.57285332 0.\n",
            "  0.76029493 0.86242785 0.15108084 0.26623392]\n",
            " [0.48433841 0.60172302 0.49403087 0.63887318 0.48018056 0.76029493\n",
            "  0.         0.93554209 0.86312167 0.69492084]\n",
            " [0.45623854 0.7716176  1.03048607 1.02971903 0.47388098 0.86242785\n",
            "  0.93554209 0.         1.00652481 0.59727689]\n",
            " [0.76755077 0.30603302 0.4247368  0.26789533 0.72131119 0.15108084\n",
            "  0.86312167 1.00652481 0.         0.41417382]\n",
            " [0.39826013 0.1988106  0.50698042 0.45502169 0.3555657  0.26623392\n",
            "  0.69492084 0.59727689 0.41417382 0.        ]]\n"
          ]
        }
      ]
    },
    {
      "cell_type": "code",
      "source": [
        "print(\"Преобразовать массив из float в int\")\n",
        "Z = np.arange(10, dtype=np.int32)\n",
        "Z = Z.astype(np.float32, copy=False)"
      ],
      "metadata": {
        "colab": {
          "base_uri": "https://localhost:8080/"
        },
        "id": "d0Ax6TW-2b4L",
        "outputId": "6acdfda0-d9e5-4d57-9ea2-79e21138a16e"
      },
      "execution_count": null,
      "outputs": [
        {
          "output_type": "stream",
          "name": "stdout",
          "text": [
            "Преобразовать массив из float в int\n"
          ]
        }
      ]
    },
    {
      "cell_type": "code",
      "source": [
        "print(\"Случайно расположить p элементов в 2D массив\")\n",
        "n = 10\n",
        "p = 3\n",
        "Z = np.zeros((n,n))\n",
        "np.put(Z, np.random.choice(range(n*n), p, replace=False), 1)\n",
        "print(Z)"
      ],
      "metadata": {
        "colab": {
          "base_uri": "https://localhost:8080/"
        },
        "id": "Gs3hETfE2b7T",
        "outputId": "08e9a56f-9789-4aa0-b3c6-e50111694490"
      },
      "execution_count": null,
      "outputs": [
        {
          "output_type": "stream",
          "name": "stdout",
          "text": [
            "Случайно расположить p элементов в 2D массив\n",
            "[[0. 0. 0. 0. 0. 0. 0. 0. 0. 1.]\n",
            " [0. 1. 0. 1. 0. 0. 0. 0. 0. 0.]\n",
            " [0. 0. 0. 0. 0. 0. 0. 0. 0. 0.]\n",
            " [0. 0. 0. 0. 0. 0. 0. 0. 0. 0.]\n",
            " [0. 0. 0. 0. 0. 0. 0. 0. 0. 0.]\n",
            " [0. 0. 0. 0. 0. 0. 0. 0. 0. 0.]\n",
            " [0. 0. 0. 0. 0. 0. 0. 0. 0. 0.]\n",
            " [0. 0. 0. 0. 0. 0. 0. 0. 0. 0.]\n",
            " [0. 0. 0. 0. 0. 0. 0. 0. 0. 0.]\n",
            " [0. 0. 0. 0. 0. 0. 0. 0. 0. 0.]]\n"
          ]
        }
      ]
    },
    {
      "cell_type": "code",
      "source": [
        "print(\"Отсортировать матрицу по n-ому столбцу\")\n",
        "Z = np.random.randint(0,10,(3,3))\n",
        "n = 1 # Нумерация с нуля\n",
        "print(Z)\n",
        "print(Z[Z[:,n].argsort()])"
      ],
      "metadata": {
        "colab": {
          "base_uri": "https://localhost:8080/"
        },
        "id": "CxtEvgAX2b-M",
        "outputId": "c632c7c5-b7de-495c-f48d-14ed72b3b20c"
      },
      "execution_count": null,
      "outputs": [
        {
          "output_type": "stream",
          "name": "stdout",
          "text": [
            "Отсортировать матрицу по n-ому столбцу\n",
            "[[0 4 7]\n",
            " [0 0 4]\n",
            " [7 0 8]]\n",
            "[[0 0 4]\n",
            " [7 0 8]\n",
            " [0 4 7]]\n"
          ]
        }
      ]
    },
    {
      "cell_type": "code",
      "source": [
        "print(\"Определить, есть ли в 2D массиве нулевые столбцы\")\n",
        "Z = np.random.randint(0,3,(3,10))\n",
        "print((~Z.any(axis=0)).any())"
      ],
      "metadata": {
        "colab": {
          "base_uri": "https://localhost:8080/"
        },
        "id": "pPdV2Yw62cAx",
        "outputId": "646fc3f7-18e3-4c49-9a8d-a422a88672d6"
      },
      "execution_count": null,
      "outputs": [
        {
          "output_type": "stream",
          "name": "stdout",
          "text": [
            "Определить, есть ли в 2D массиве нулевые столбцы\n",
            "False\n"
          ]
        }
      ]
    },
    {
      "cell_type": "code",
      "source": [
        "print(\"Поменять 2 строки в матрице\")\n",
        "A = np.arange(25).reshape(5,5)\n",
        "A[[0,1]] = A[[1,0]]\n",
        "print(A)"
      ],
      "metadata": {
        "colab": {
          "base_uri": "https://localhost:8080/"
        },
        "id": "gb-vzUKv2cGo",
        "outputId": "d000d6d9-8c81-4239-9c37-e17926a1cdfe"
      },
      "execution_count": null,
      "outputs": [
        {
          "output_type": "stream",
          "name": "stdout",
          "text": [
            "Поменять 2 строки в матрице\n",
            "[[ 5  6  7  8  9]\n",
            " [ 0  1  2  3  4]\n",
            " [10 11 12 13 14]\n",
            " [15 16 17 18 19]\n",
            " [20 21 22 23 24]]\n"
          ]
        }
      ]
    },
    {
      "cell_type": "code",
      "source": [
        "print(\"Дан массив C; создать массив A, что np.bincount(A) == C\")\n",
        "C = np.bincount([1,1,2,3,4,4,6])\n",
        "A = np.repeat(np.arange(len(C)), C)\n",
        "print(A)"
      ],
      "metadata": {
        "colab": {
          "base_uri": "https://localhost:8080/"
        },
        "id": "jC03IaQ-2cJg",
        "outputId": "eb944695-4e6e-4b9a-a8ef-6251e0ec98d5"
      },
      "execution_count": null,
      "outputs": [
        {
          "output_type": "stream",
          "name": "stdout",
          "text": [
            "Дан массив C; создать массив A, что np.bincount(A) == C\n",
            "[1 1 2 3 4 4 6]\n"
          ]
        }
      ]
    },
    {
      "cell_type": "code",
      "source": [
        "print(\"Дан массив. Написать функцию, выделяющую часть массива фиксированного размера с центром в данном элементе (дополненное значением fill если необходимо)\")\n",
        "Z = np.random.randint(0,10, (10,10))\n",
        "shape = (5,5)\n",
        "fill = 0\n",
        "position = (1,1)\n",
        "R = np.ones(shape, dtype=Z.dtype)*fill\n",
        "P = np.array(list(position)).astype(int)\n",
        "Rs = np.array(list(R.shape)).astype(int)\n",
        "Zs = np.array(list(Z.shape)).astype(int)\n",
        "R_start = np.zeros((len(shape),)).astype(int)\n",
        "R_stop = np.array(list(shape)).astype(int)\n",
        "Z_start = (P - Rs//2)\n",
        "Z_stop = (P + Rs//2)+Rs%2\n",
        "R_start = (R_start - np.minimum(Z_start, 0)).tolist()\n",
        "Z_start = (np.maximum(Z_start, 0)).tolist()\n",
        "Z_stop = (np.minimum(Z_stop,Zs)).tolist()\n",
        "r = [slice(start,stop) for start,stop in zip(R_start,R_stop)]\n",
        "z = [slice(start,stop) for start,stop in zip(Z_start,Z_stop)]\n",
        "R[r] = Z[z]\n",
        "print(Z)\n",
        "print(R)"
      ],
      "metadata": {
        "colab": {
          "base_uri": "https://localhost:8080/"
        },
        "id": "CRjharor2cMY",
        "outputId": "8e03d54b-b915-4c23-befb-89f0811c69ca"
      },
      "execution_count": null,
      "outputs": [
        {
          "output_type": "stream",
          "name": "stdout",
          "text": [
            "Дан массив. Написать функцию, выделяющую часть массива фиксированного размера с центром в данном элементе (дополненное значением fill если необходимо)\n",
            "[[1 9 6 9 5 3 9 6 5 7]\n",
            " [7 5 7 8 8 4 3 7 1 0]\n",
            " [8 6 2 3 6 7 0 8 0 9]\n",
            " [7 6 1 2 5 3 6 0 1 3]\n",
            " [4 5 5 7 0 9 3 4 7 7]\n",
            " [8 9 9 6 8 7 2 5 3 8]\n",
            " [7 3 2 8 3 6 6 8 0 9]\n",
            " [6 6 0 2 4 5 7 1 6 1]\n",
            " [3 5 2 3 6 8 8 2 3 3]\n",
            " [5 1 9 8 4 5 3 6 8 0]]\n",
            "[[0 0 0 0 0]\n",
            " [0 1 9 6 9]\n",
            " [0 7 5 7 8]\n",
            " [0 8 6 2 3]\n",
            " [0 7 6 1 2]]\n"
          ]
        },
        {
          "output_type": "stream",
          "name": "stderr",
          "text": [
            "/usr/local/lib/python3.7/dist-packages/ipykernel_launcher.py:19: FutureWarning: Using a non-tuple sequence for multidimensional indexing is deprecated; use `arr[tuple(seq)]` instead of `arr[seq]`. In the future this will be interpreted as an array index, `arr[np.array(seq)]`, which will result either in an error or a different result.\n"
          ]
        }
      ]
    },
    {
      "cell_type": "code",
      "source": [
        "print(\"Посчитать ранг матрицы\")\n",
        "Z = np.random.uniform(0,1,(10,10))\n",
        "rank = np.linalg.matrix_rank(Z)\n",
        "print(rank)"
      ],
      "metadata": {
        "colab": {
          "base_uri": "https://localhost:8080/"
        },
        "id": "iVjvehYx2cPZ",
        "outputId": "648308c1-3500-4eff-f3dc-1cdfaf35e0fe"
      },
      "execution_count": null,
      "outputs": [
        {
          "output_type": "stream",
          "name": "stdout",
          "text": [
            "Посчитать ранг матрицы\n",
            "10\n"
          ]
        }
      ]
    },
    {
      "cell_type": "code",
      "source": [
        "print(\"Найти наиболее частое значение в массиве\")\n",
        "Z = np.random.randint(0,10,50)\n",
        "print(np.bincount(Z).argmax())"
      ],
      "metadata": {
        "colab": {
          "base_uri": "https://localhost:8080/"
        },
        "id": "lZPIzxeb2cSI",
        "outputId": "30045655-735f-4333-d422-fb91add7a71e"
      },
      "execution_count": null,
      "outputs": [
        {
          "output_type": "stream",
          "name": "stdout",
          "text": [
            "Найти наиболее частое значение в массиве\n",
            "4\n"
          ]
        }
      ]
    },
    {
      "cell_type": "code",
      "source": [
        "print(\"Рассмотрим множество матриц (n,n) и множество из p векторов (n,1). Посчитать сумму p произведений матриц (результат имеет размерность (n,1))\")\n",
        "p, n = 10, 20\n",
        "M = np.ones((p,n,n))\n",
        "V = np.ones((p,n,1))\n",
        "S = np.tensordot(M, V, axes=[[0, 2], [0, 1]])\n",
        "print(S)"
      ],
      "metadata": {
        "colab": {
          "base_uri": "https://localhost:8080/"
        },
        "id": "vpgCgg3d2cVG",
        "outputId": "fef38b22-71c2-45a2-98e2-8f307101fd5f"
      },
      "execution_count": null,
      "outputs": [
        {
          "output_type": "stream",
          "name": "stdout",
          "text": [
            "Рассмотрим множество матриц (n,n) и множество из p векторов (n,1). Посчитать сумму p произведений матриц (результат имеет размерность (n,1))\n",
            "[[200.]\n",
            " [200.]\n",
            " [200.]\n",
            " [200.]\n",
            " [200.]\n",
            " [200.]\n",
            " [200.]\n",
            " [200.]\n",
            " [200.]\n",
            " [200.]\n",
            " [200.]\n",
            " [200.]\n",
            " [200.]\n",
            " [200.]\n",
            " [200.]\n",
            " [200.]\n",
            " [200.]\n",
            " [200.]\n",
            " [200.]\n",
            " [200.]]\n"
          ]
        }
      ]
    },
    {
      "cell_type": "code",
      "source": [
        "print(\"Найти n наибольших значений в массиве\")\n",
        "Z = np.arange(10000)\n",
        "np.random.shuffle(Z)\n",
        "n = 5\n",
        "print (Z[np.argpartition(-Z,n)[:n]])"
      ],
      "metadata": {
        "colab": {
          "base_uri": "https://localhost:8080/"
        },
        "id": "l22XMz5f2cYE",
        "outputId": "82be9f11-bba3-4d44-f6df-c7991f8e64ff"
      },
      "execution_count": null,
      "outputs": [
        {
          "output_type": "stream",
          "name": "stdout",
          "text": [
            "Найти n наибольших значений в массиве\n",
            "[9999 9997 9998 9996 9995]\n"
          ]
        }
      ]
    },
    {
      "cell_type": "code",
      "source": [
        "print(\"Даны 2 массива A (8x3) и B (2x2). Найти строки в A, которые содержат элементы из каждой строки в B, независимо от порядка элементов в B\")\n",
        "A = np.random.randint(0,5,(8,3))\n",
        "B = np.random.randint(0,5,(2,2))\n",
        "C = (A[..., np.newaxis, np.newaxis] == B)\n",
        "rows = (C.sum(axis=(1,2,3)) >= B.shape[1]).nonzero()[0]\n",
        "print(rows)"
      ],
      "metadata": {
        "colab": {
          "base_uri": "https://localhost:8080/"
        },
        "id": "OAzmK2I-2ca4",
        "outputId": "7f9e572a-b25b-4d33-86c3-af24ce5308c3"
      },
      "execution_count": null,
      "outputs": [
        {
          "output_type": "stream",
          "name": "stdout",
          "text": [
            "Даны 2 массива A (8x3) и B (2x2). Найти строки в A, которые содержат элементы из каждой строки в B, независимо от порядка элементов в B\n",
            "[0 1 2 3 5 6 7]\n"
          ]
        }
      ]
    },
    {
      "cell_type": "code",
      "source": [
        "print(\"Преобразовать вектор чисел в матрицу бинарных представлений\")\n",
        "I = np.array([0, 1, 2, 3, 15, 16, 32, 64, 128], dtype=np.uint8)\n",
        "print(np.unpackbits(I[:, np.newaxis], axis=1))"
      ],
      "metadata": {
        "colab": {
          "base_uri": "https://localhost:8080/"
        },
        "id": "9SQ1zTSx2cdr",
        "outputId": "080be807-6cfc-413c-aad8-ef83c86d2518"
      },
      "execution_count": null,
      "outputs": [
        {
          "output_type": "stream",
          "name": "stdout",
          "text": [
            "Преобразовать вектор чисел в матрицу бинарных представлений\n",
            "[[0 0 0 0 0 0 0 0]\n",
            " [0 0 0 0 0 0 0 1]\n",
            " [0 0 0 0 0 0 1 0]\n",
            " [0 0 0 0 0 0 1 1]\n",
            " [0 0 0 0 1 1 1 1]\n",
            " [0 0 0 1 0 0 0 0]\n",
            " [0 0 1 0 0 0 0 0]\n",
            " [0 1 0 0 0 0 0 0]\n",
            " [1 0 0 0 0 0 0 0]]\n"
          ]
        }
      ]
    }
  ]
}