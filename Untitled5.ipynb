{
  "nbformat": 4,
  "nbformat_minor": 0,
  "metadata": {
    "colab": {
      "provenance": [],
      "collapsed_sections": [],
      "authorship_tag": "ABX9TyPa8y6kLQvxSf/BgpmKfd/J",
      "include_colab_link": true
    },
    "kernelspec": {
      "name": "python3",
      "display_name": "Python 3"
    },
    "language_info": {
      "name": "python"
    }
  },
  "cells": [
    {
      "cell_type": "markdown",
      "metadata": {
        "id": "view-in-github",
        "colab_type": "text"
      },
      "source": [
        "<a href=\"https://colab.research.google.com/github/Your-searcher/nastya_3/blob/main/Untitled5.ipynb\" target=\"_parent\"><img src=\"https://colab.research.google.com/assets/colab-badge.svg\" alt=\"Open In Colab\"/></a>"
      ]
    },
    {
      "cell_type": "markdown",
      "source": [
        "Numpy. Задания"
      ],
      "metadata": {
        "id": "XxorBcSMnCdc"
      }
    },
    {
      "cell_type": "code",
      "source": [
        "print(\"1.1. Напишите программу NumPy для сохранения двух данных массивов в один файл в сжатом формате (формат .npz) и загрузите его.\")\n",
        "import numpy as np\n",
        "arr = np.array([[[11, 11, 9, 9], [11, 0, 2, 0]], [[10, 14, 9, 14], [0, 1, 11, 11]]])\n",
        "file = open(\"arr\", \"wb\")\n",
        "np.save(file, arr)\n",
        "file.close"
      ],
      "metadata": {
        "colab": {
          "base_uri": "https://localhost:8080/"
        },
        "id": "JsgcAF3xm6AE",
        "outputId": "d631ed86-fa7d-49c1-fed6-8503963383bb"
      },
      "execution_count": null,
      "outputs": [
        {
          "output_type": "stream",
          "name": "stdout",
          "text": [
            "1.1. Напишите программу NumPy для сохранения двух данных массивов в один файл в сжатом формате (формат .npz) и загрузите его.\n"
          ]
        },
        {
          "output_type": "execute_result",
          "data": {
            "text/plain": [
              "<function BufferedWriter.close>"
            ]
          },
          "metadata": {},
          "execution_count": 1
        }
      ]
    },
    {
      "cell_type": "code",
      "source": [
        "print(\"1.11. Напишите программу NumPy для создания поэлементного сравнения (равного, равного в пределах допуска) двух заданных массивов.\")\n",
        "import numpy as np\n",
        "x = np.array([72.5, 79.0, 85, 90, 150, -135, 120, -10, 60, 100.03])\n",
        "y = np.array([72, 79, 85, 90, 150, -135, 120, -10, 60, 100])\n",
        "print(\"Оригинальные массивы:\")\n",
        "print(x)\n",
        "print(y)\n",
        "print(\"Равное сравнение:\")\n",
        "print(np.greater(x, y))\n",
        "print(\"Равное сравнение в пределах допуска:\")\n",
        "print(np.greater_equal(x, y))"
      ],
      "metadata": {
        "colab": {
          "base_uri": "https://localhost:8080/"
        },
        "id": "jG73MXgYbbQe",
        "outputId": "94bd9a94-d9eb-4b66-8ec6-4abc26155fb4"
      },
      "execution_count": null,
      "outputs": [
        {
          "output_type": "stream",
          "name": "stdout",
          "text": [
            "1.11. Напишите программу NumPy для создания поэлементного сравнения (равного, равного в пределах допуска) двух заданных массивов.\n",
            "Оригинальные массивы:\n",
            "[  72.5    79.     85.     90.    150.   -135.    120.    -10.     60.\n",
            "  100.03]\n",
            "[  72   79   85   90  150 -135  120  -10   60  100]\n",
            "Равное сравнение:\n",
            "[ True False False False False False False False False  True]\n",
            "Равное сравнение в пределах допуска:\n",
            "[ True  True  True  True  True  True  True  True  True  True]\n"
          ]
        }
      ]
    },
    {
      "cell_type": "code",
      "source": [
        "print(\"1.21. Напишите программу NumPy для создания вектора длиной 10 со значениями, равномерно распределенными между 5 и 50.\")\n",
        "import numpy as np\n",
        "v = np.linspace(10, 50, 5)\n",
        "print(\"Вектор:\")\n",
        "print(v)"
      ],
      "metadata": {
        "colab": {
          "base_uri": "https://localhost:8080/"
        },
        "id": "b-fnyR-jbebm",
        "outputId": "d8cdbc8c-5105-43b4-fa67-636fe68c332b"
      },
      "execution_count": null,
      "outputs": [
        {
          "output_type": "stream",
          "name": "stdout",
          "text": [
            "1.21. Напишите программу NumPy для создания вектора длиной 10 со значениями, равномерно распределенными между 5 и 50.\n",
            "Вектор:\n",
            "[10. 20. 30. 40. 50.]\n"
          ]
        }
      ]
    },
    {
      "cell_type": "code",
      "source": [
        "print(\"2.1. Напишите программу NumPy для печати версии NumPy в вашей системе.\")\n",
        "import numpy as np\n",
        "print(np.__version__)"
      ],
      "metadata": {
        "colab": {
          "base_uri": "https://localhost:8080/"
        },
        "id": "qUEna1hnbe9-",
        "outputId": "b2c5f86c-7d1b-415c-f5c3-3fea03754f6e"
      },
      "execution_count": null,
      "outputs": [
        {
          "output_type": "stream",
          "name": "stdout",
          "text": [
            "2.1. Напишите программу NumPy для печати версии NumPy в вашей системе.\n",
            "1.21.6\n"
          ]
        }
      ]
    },
    {
      "cell_type": "code",
      "source": [
        "print(\"2.11. Напишите программу NumPy для преобразования списка и кортежа в массивы.  Список в массив: [1 2 3 4 5 6 7 8] Кортеж в массив: [[8 4 6] [1 2 3]]\")\n",
        "import numpy as np\n",
        "my_list = [1, 2, 3, 4, 5, 6, 7, 8]\n",
        "print(\"Список в массив: \")\n",
        "print(np.asarray(my_list))\n",
        "my_tuple = ([8, 4, 6], [1, 2, 3])\n",
        "print(\"Массиву в список: \")\n",
        "print(np.asarray(my_tuple))"
      ],
      "metadata": {
        "colab": {
          "base_uri": "https://localhost:8080/"
        },
        "id": "0Hen8J0Pbfs2",
        "outputId": "9589f4b7-ddb5-47be-922f-557c36fd0b48"
      },
      "execution_count": null,
      "outputs": [
        {
          "output_type": "stream",
          "name": "stdout",
          "text": [
            "2.11. Напишите программу NumPy для преобразования списка и кортежа в массивы.  Список в массив: [1 2 3 4 5 6 7 8] Кортеж в массив: [[8 4 6] [1 2 3]]\n",
            "Список в массив: \n",
            "[1 2 3 4 5 6 7 8]\n",
            "Массиву в список: \n",
            "[[8 4 6]\n",
            " [1 2 3]]\n"
          ]
        }
      ]
    },
    {
      "cell_type": "code",
      "source": [
        "print(\"2.21. Напишите программу NumPy, чтобы найти набор исключений или двух массивов. Set exclusive-or вернет отсортированные, уникальные значения, которые находятся только в одном (а не в обоих) входных массивах.  \")\n",
        "import numpy as np\n",
        "array1 = np.array([0, 10, 20, 40, 60, 80])\n",
        "print(\"Массив 1: \",array1)\n",
        "array2 = [10, 30, 40, 50, 70]\n",
        "print(\"Массив 2: \",array2)\n",
        "print(\"Набор исключений:\")\n",
        "print(np.setxor1d(array1, array2))"
      ],
      "metadata": {
        "colab": {
          "base_uri": "https://localhost:8080/"
        },
        "id": "_iR1AdvXbgOl",
        "outputId": "3885633b-bf3f-432a-c6b7-ccdb4d9539ae"
      },
      "execution_count": null,
      "outputs": [
        {
          "output_type": "stream",
          "name": "stdout",
          "text": [
            "2.21. Напишите программу NumPy, чтобы найти набор исключений или двух массивов. Set exclusive-or вернет отсортированные, уникальные значения, которые находятся только в одном (а не в обоих) входных массивах.  \n",
            "Массив 1:  [ 0 10 20 40 60 80]\n",
            "Массив 2:  [10, 30, 40, 50, 70]\n",
            "Набор исключений:\n",
            "[ 0 20 30 50 60 70 80]\n"
          ]
        }
      ]
    },
    {
      "cell_type": "code",
      "source": [
        "print(\"3.1. Напишите программу NumPy для вычисления умножения двух заданных матриц.\")\n",
        "import numpy as np\n",
        "p = [[1, 4], [15, 1]]\n",
        "q = [[1, 2], [3, 4]]\n",
        "print(\"Матрицы:\")\n",
        "print(p)\n",
        "print(q)\n",
        "result1 = np.dot(p, q)\n",
        "print(\"Результат умножения:\")\n",
        "print(result1)"
      ],
      "metadata": {
        "colab": {
          "base_uri": "https://localhost:8080/"
        },
        "id": "pV-h8Y4DbgsF",
        "outputId": "3f018dcc-7d58-44c7-c027-bdfbb16fb366"
      },
      "execution_count": null,
      "outputs": [
        {
          "output_type": "stream",
          "name": "stdout",
          "text": [
            "3.1. Напишите программу NumPy для вычисления умножения двух заданных матриц.\n",
            "Матрицы:\n",
            "[[1, 4], [15, 1]]\n",
            "[[1, 2], [3, 4]]\n",
            "Результат умножения:\n",
            "[[13 18]\n",
            " [18 34]]\n"
          ]
        }
      ]
    },
    {
      "cell_type": "code",
      "source": [
        "print(\"3.11. Напишите программу NumPy для вычисления определителя массива.\")\n",
        "import numpy as np\n",
        "a = np.array([[1,2],[3,4]])\n",
        "print(\"Массив:\")\n",
        "print(a)\n",
        "result =  np.linalg.det(a)\n",
        "print(\"Определитель:\")\n",
        "print(result)"
      ],
      "metadata": {
        "colab": {
          "base_uri": "https://localhost:8080/"
        },
        "id": "fWfehY_gbhF-",
        "outputId": "4c065670-f436-403a-f6e7-4e384d3afdcf"
      },
      "execution_count": null,
      "outputs": [
        {
          "output_type": "stream",
          "name": "stdout",
          "text": [
            "3.11. Напишите программу NumPy для вычисления определителя массива.\n",
            "Массив:\n",
            "[[1 2]\n",
            " [3 4]]\n",
            "Определитель:\n",
            "-2.0000000000000004\n"
          ]
        }
      ]
    },
    {
      "cell_type": "code",
      "source": [
        "print(\"4.1. Напишите программу NumPy для генерации пяти случайных чисел из нормального распределения. Ожидаемый результат: [-0,43262625 -1,10836787 1,80791413 0,69287463 -0,53742101] \")\n",
        "import numpy as np\n",
        "x = np.random.normal(size=5)\n",
        "print(x)"
      ],
      "metadata": {
        "colab": {
          "base_uri": "https://localhost:8080/"
        },
        "id": "B8PhCiMhbhmF",
        "outputId": "0d122e71-a1fe-4730-c630-8e36440a9aab"
      },
      "execution_count": null,
      "outputs": [
        {
          "output_type": "stream",
          "name": "stdout",
          "text": [
            "4.1. Напишите программу NumPy для генерации пяти случайных чисел из нормального распределения. Ожидаемый результат: [-0,43262625 -1,10836787 1,80791413 0,69287463 -0,53742101] \n",
            "[ 0.93118026  0.54641457 -1.52237432  1.57449412  1.16175737]\n"
          ]
        }
      ]
    },
    {
      "cell_type": "code",
      "source": [
        "print(\"4.11. Напишите программу NumPy для создания случайного вектора размером 15 и замените максимальное значение на -1.\")\n",
        "import numpy as np\n",
        "x = np.random.random(15)\n",
        "print(\"Массив:\")\n",
        "print(x)\n",
        "x[x.argmax()] = -1\n",
        "print(\"После замены:\")\n",
        "print(x)"
      ],
      "metadata": {
        "colab": {
          "base_uri": "https://localhost:8080/"
        },
        "id": "yOr5Vy5_bhsF",
        "outputId": "28d44a2d-90c1-4832-dbdc-7384a218ba61"
      },
      "execution_count": null,
      "outputs": [
        {
          "output_type": "stream",
          "name": "stdout",
          "text": [
            "4.11. Напишите программу NumPy для создания случайного вектора размером 15 и замените максимальное значение на -1.\n",
            "Массив:\n",
            "[0.76113075 0.2678611  0.08407589 0.45452986 0.48119915 0.17522356\n",
            " 0.45585622 0.7033521  0.05324157 0.07276966 0.13448482 0.50963659\n",
            " 0.94993172 0.95067142 0.34607269]\n",
            "После замены:\n",
            "[ 0.76113075  0.2678611   0.08407589  0.45452986  0.48119915  0.17522356\n",
            "  0.45585622  0.7033521   0.05324157  0.07276966  0.13448482  0.50963659\n",
            "  0.94993172 -1.          0.34607269]\n"
          ]
        }
      ]
    },
    {
      "cell_type": "code",
      "source": [
        "print(\"5.1. Напишите программу NumPy для сортировки заданного массива формы 2 вдоль первой оси, последней оси и на плоском массиве. \")\n",
        "import numpy as np\n",
        "a = np.array([[10,40],[30,20]])\n",
        "print(\"Массив:\")\n",
        "print(a)\n",
        "print(\"Вдоль первой оси:\")\n",
        "print(np.sort(a, axis=0))\n",
        "print(\"Вдоль послдней оси:\")\n",
        "print(np.sort(a))\n",
        "print(\"На плоском массиве:\")\n",
        "print(np.sort(a, axis=None))"
      ],
      "metadata": {
        "colab": {
          "base_uri": "https://localhost:8080/"
        },
        "id": "bRLTpp4MbkGt",
        "outputId": "0cd66509-802c-472d-eb9d-7e52dd67937e"
      },
      "execution_count": null,
      "outputs": [
        {
          "output_type": "stream",
          "name": "stdout",
          "text": [
            "5.1. Напишите программу NumPy для сортировки заданного массива формы 2 вдоль первой оси, последней оси и на плоском массиве. \n",
            "Массив:\n",
            "[[10 40]\n",
            " [30 20]]\n",
            "Вдоль первой оси:\n",
            "[[10 20]\n",
            " [30 40]]\n",
            "Вдоль послдней оси:\n",
            "[[10 40]\n",
            " [20 30]]\n",
            "На плоском массиве:\n",
            "[10 20 30 40]\n"
          ]
        }
      ]
    },
    {
      "cell_type": "code",
      "source": [
        "print(\"6.1. Напишите программу NumPy для поэлементного сложения, вычитания, умножения, разделения аргументов. \")\n",
        "import numpy as np\n",
        "print(\"Сложение:\")\n",
        "print(np.add(1.0, 2.0))\n",
        "print(\"Вычитание:\")\n",
        "print(np.subtract(1.0, 2.0))\n",
        "print(\"Умножение:\")\n",
        "print(np.multiply(1.0, 2.0))\n",
        "print(\"Деление:\")\n",
        "print(np.divide(1.0, 2.0))"
      ],
      "metadata": {
        "colab": {
          "base_uri": "https://localhost:8080/"
        },
        "id": "IbySz64PbkL4",
        "outputId": "dab2b571-1b4b-434d-ac8f-7ad32f07548c"
      },
      "execution_count": null,
      "outputs": [
        {
          "output_type": "stream",
          "name": "stdout",
          "text": [
            "6.1. Напишите программу NumPy для поэлементного сложения, вычитания, умножения, разделения аргументов. \n",
            "Сложение:\n",
            "3.0\n",
            "Вычитание:\n",
            "-1.0\n",
            "Умножение:\n",
            "2.0\n",
            "Деление:\n",
            "0.5\n"
          ]
        }
      ]
    },
    {
      "cell_type": "code",
      "source": [
        "print(\"6.11. Напишите программу NumPy, чтобы умножить матрицу 5x3 на матрицу 3x2 и создать реальный матричный продукт.\")\n",
        "import numpy as np\n",
        "x = np.random.random((5,3))\n",
        "print(\"Массив 1:\")\n",
        "print(x)\n",
        "y = np.random.random((3,2))\n",
        "print(\"Массив 2:\")\n",
        "print(y)\n",
        "z = np.dot(x, y)\n",
        "print(\"Умножение:\")\n",
        "print(z)"
      ],
      "metadata": {
        "colab": {
          "base_uri": "https://localhost:8080/"
        },
        "id": "1yxOsDv8ksAF",
        "outputId": "7f430427-1101-4760-a977-306d3cbd64a6"
      },
      "execution_count": null,
      "outputs": [
        {
          "output_type": "stream",
          "name": "stdout",
          "text": [
            "6.11. Напишите программу NumPy, чтобы умножить матрицу 5x3 на матрицу 3x2 и создать реальный матричный продукт.\n",
            "Массив 1:\n",
            "[[5.02295193e-01 2.04050234e-01 5.91640994e-05]\n",
            " [1.53315404e-01 8.80582157e-01 1.87632108e-01]\n",
            " [7.93216540e-01 7.81519741e-01 6.64819215e-01]\n",
            " [5.02570261e-01 8.54492330e-01 8.16083590e-02]\n",
            " [9.01951856e-01 4.52671515e-01 8.72675817e-01]]\n",
            "Массив 2:\n",
            "[[0.3170045  0.31186482]\n",
            " [0.48963928 0.60486476]\n",
            " [0.84369622 0.34817062]]\n",
            "Умножение:\n",
            "[[0.25919077 0.2800916 ]\n",
            " [0.63807379 0.64577478]\n",
            " [1.19502144 0.95156061]\n",
            " [0.64656271 0.70199992]\n",
            " [1.24384184 0.85893219]]\n"
          ]
        }
      ]
    },
    {
      "cell_type": "code",
      "source": [
        "print(\"6.21. Напишите программу NumPy для вычисления тригонометрического массива углов синуса, косинуса и тангенса, приведенного в градусах. \")\n",
        "import numpy as np\n",
        "print(np.sin(np.array((0., 30., 45., 60., 90.)) * np.pi / 180.))\n",
        "print(np.cos(np.array((0., 30., 45., 60., 90.)) * np.pi / 180.))\n",
        "print(np.tan(np.array((0., 30., 45., 60., 90.)) * np.pi / 180.))"
      ],
      "metadata": {
        "colab": {
          "base_uri": "https://localhost:8080/"
        },
        "id": "GktTk5d1ksNM",
        "outputId": "fdb5db0d-1916-42a6-88b9-f0d817e11e9f"
      },
      "execution_count": null,
      "outputs": [
        {
          "output_type": "stream",
          "name": "stdout",
          "text": [
            "6.21. Напишите программу NumPy для вычисления тригонометрического массива углов синуса, косинуса и тангенса, приведенного в градусах. \n",
            "[0.         0.5        0.70710678 0.8660254  1.        ]\n",
            "[1.00000000e+00 8.66025404e-01 7.07106781e-01 5.00000000e-01\n",
            " 6.12323400e-17]\n",
            "[0.00000000e+00 5.77350269e-01 1.00000000e+00 1.73205081e+00\n",
            " 1.63312394e+16]\n"
          ]
        }
      ]
    },
    {
      "cell_type": "code",
      "source": [
        "print(\"7.1. Напишите программу на Python, чтобы найти максимальное и минимальное значение заданного уплощенного массива.\")\n",
        "import numpy as np\n",
        "a = np.arange(4).reshape((2,2))\n",
        "print(\"Массив:\")\n",
        "print(a)\n",
        "print(\"Максимум:\")\n",
        "print(np.amax(a))\n",
        "print(\"Минимум:\")\n",
        "print(np.amin(a))"
      ],
      "metadata": {
        "colab": {
          "base_uri": "https://localhost:8080/"
        },
        "id": "gMHoGb_HksUL",
        "outputId": "ff733108-57c4-483b-a9d9-554efa61aafd"
      },
      "execution_count": null,
      "outputs": [
        {
          "output_type": "stream",
          "name": "stdout",
          "text": [
            "7.1. Напишите программу на Python, чтобы найти максимальное и минимальное значение заданного уплощенного массива.\n",
            "Массив:\n",
            "[[0 1]\n",
            " [2 3]]\n",
            "Максимум:\n",
            "3\n",
            "Минимум:\n",
            "0\n"
          ]
        }
      ]
    },
    {
      "cell_type": "code",
      "source": [
        "print(\"7.11. Напишите программу NumPy для поэтапного тестирования данного массива на конечность (не бесконечность или не число), положительную или отрицательную бесконечность, для NaN, для NaT (не время), для отрицательной бесконечности, для положительной бесконечности ,  \")\n",
        "import numpy as np\n",
        "print(np.isfinite(1))\n",
        "print(np.isfinite(0))\n",
        "print(np.isfinite(np.nan))\n",
        "print(np.isinf(np.inf))\n",
        "print(np.isinf(np.nan))\n",
        "print(np.isinf(np.NINF))\n",
        "print(np.isnan([np.log(-1.),1.,np.log(0)]))\n",
        "print(np.isnat(np.array([\"NaT\", \"2016-01-01\"], dtype=\"datetime64[ns]\")))\n",
        "x = np.array([-np.inf, 0., np.inf])\n",
        "y = np.array([2, 2, 2])\n",
        "print(np.isneginf(x, y))\n",
        "x = np.array([-np.inf, 0., np.inf])\n",
        "y = np.array([2, 2, 2])\n",
        "print(np.isposinf(x, y))\n"
      ],
      "metadata": {
        "colab": {
          "base_uri": "https://localhost:8080/"
        },
        "id": "EIWm2DQ7ksaE",
        "outputId": "9837086c-14a2-43f5-a777-9c8e0ae951a5"
      },
      "execution_count": null,
      "outputs": [
        {
          "output_type": "stream",
          "name": "stdout",
          "text": [
            "7.11. Напишите программу NumPy для поэтапного тестирования данного массива на конечность (не бесконечность или не число), положительную или отрицательную бесконечность, для NaN, для NaT (не время), для отрицательной бесконечности, для положительной бесконечности ,  \n",
            "True\n",
            "True\n",
            "False\n",
            "True\n",
            "False\n",
            "True\n",
            "[ True False False]\n",
            "[ True False]\n",
            "[1 0 0]\n",
            "[0 0 1]\n"
          ]
        },
        {
          "output_type": "stream",
          "name": "stderr",
          "text": [
            "/usr/local/lib/python3.7/dist-packages/ipykernel_launcher.py:9: RuntimeWarning: invalid value encountered in log\n",
            "  if __name__ == '__main__':\n",
            "/usr/local/lib/python3.7/dist-packages/ipykernel_launcher.py:9: RuntimeWarning: divide by zero encountered in log\n",
            "  if __name__ == '__main__':\n"
          ]
        }
      ]
    },
    {
      "cell_type": "code",
      "source": [
        "print(\"8.1. Напишите программу NumPy для отображения всех дат месяца марта 2017 года.\")\n",
        "import numpy as np\n",
        "print(\"Март 2017\")\n",
        "print(np.arange('2017-03', '2017-04', dtype='datetime64[D]'))"
      ],
      "metadata": {
        "colab": {
          "base_uri": "https://localhost:8080/"
        },
        "id": "t2yJet4Oksxd",
        "outputId": "d1df4e50-99f2-496d-db07-4e7120febc41"
      },
      "execution_count": null,
      "outputs": [
        {
          "output_type": "stream",
          "name": "stdout",
          "text": [
            "8.1. Напишите программу NumPy для отображения всех дат месяца марта 2017 года.\n",
            "Март 2017\n",
            "['2017-03-01' '2017-03-02' '2017-03-03' '2017-03-04' '2017-03-05'\n",
            " '2017-03-06' '2017-03-07' '2017-03-08' '2017-03-09' '2017-03-10'\n",
            " '2017-03-11' '2017-03-12' '2017-03-13' '2017-03-14' '2017-03-15'\n",
            " '2017-03-16' '2017-03-17' '2017-03-18' '2017-03-19' '2017-03-20'\n",
            " '2017-03-21' '2017-03-22' '2017-03-23' '2017-03-24' '2017-03-25'\n",
            " '2017-03-26' '2017-03-27' '2017-03-28' '2017-03-29' '2017-03-30'\n",
            " '2017-03-31']\n"
          ]
        }
      ]
    }
  ]
}